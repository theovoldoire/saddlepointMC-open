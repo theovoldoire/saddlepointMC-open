{
 "cells": [
  {
   "cell_type": "code",
   "execution_count": 1,
   "metadata": {},
   "outputs": [],
   "source": [
    "import os\n",
    "os.environ[\"XLA_FLAGS\"] = '--xla_force_host_platform_device_count=6'\n",
    "\n",
    "import jax\n",
    "import jax.numpy as jnp\n",
    "\n",
    "from functions import *\n",
    "from primitives import weighted_quantile\n",
    "from primitives import effective_sample_size\n",
    "\n",
    "import numpy as np\n",
    "\n",
    "from matplotlib import pyplot as plt\n",
    "    \n",
    "import scipy\n",
    "\n",
    "import pandas as pd\n",
    "from tqdm import tqdm\n",
    "import arviz\n",
    "\n",
    "import pickle\n",
    "\n",
    "apply_sel = lambda data, cc: [item.iloc[cc,] for item in data]\n",
    "\n",
    "base_file_pres2007 = \"../data/source/presidentielle_2007/\"\n",
    "base_file_pres2022 = \"../data/source/presidentielle_2022/\"\n",
    "base_file_legi2024 = \"../data/source/legislatives_2024/\"\n",
    "base_file_save = \"../data/results/inference_\"\n",
    "device_parallel = True\n",
    "\n",
    "# base_file_legi2024 = \"\"\n",
    "#base_file_pres2022 = \"\"\n",
    "# base_file_save =  \"inference_\"\n",
    "#device_parallel = False\n"
   ]
  },
  {
   "cell_type": "markdown",
   "metadata": {},
   "source": [
    "# Synthetic data"
   ]
  },
  {
   "cell_type": "markdown",
   "metadata": {},
   "source": [
    "## Figure 1 – Global comparison"
   ]
  },
  {
   "cell_type": "code",
   "execution_count": 10,
   "metadata": {},
   "outputs": [],
   "source": [
    "est1 = jax.jit(lambda *args: estimate_small(10, *args))\n",
    "size_bur =100\n",
    "est_func = est1\n",
    "K = 100\n",
    "true_sampling, I = make_probability_X(size_mat=3)\n",
    "n = jnp.ones(K)*size_bur\n",
    "true_data, ecological, ecological_full, A = construct_synthetic(true_sampling, I, n = n)\n",
    "pars_func = lambda pars: jnp.repeat(softmax1(pars)[None,:], repeats=K, axis=0) # fixed pars func \n",
    "\n",
    "# Definition dens_exact\n",
    "find_tilt = jax.jit(lambda pis: find_optimal_tilt(pis, ecological, n, A, Niter=5, lr=1.))\n",
    "find_notilt = jax.jit(lambda pis: find_optimal_tilt(pis, ecological, n, A, Niter=5, lr=0.))\n",
    "estimate_prob = jax.jit(lambda keys, tilt, pis: jax.vmap(tilted_estimate, (0, 0, 0, 0, 0, None, None))(keys, tilt, pis, ecological, n, A, est_func))\n",
    "\n",
    "dens_exact = lambda pars, key: marginal_likelihood(key, pars, pars_func, find_tilt, estimate_prob)"
   ]
  },
  {
   "cell_type": "code",
   "execution_count": 16,
   "metadata": {},
   "outputs": [],
   "source": [
    "def make_sim(size_bur, est_func):\n",
    "    K = 100\n",
    "    true_sampling, I = make_probability_X(size_mat=3, base=1.)\n",
    "    n = jnp.ones(K)*size_bur\n",
    "    true_data, ecological, ecological_full, A = construct_synthetic(true_sampling, I, n = n)\n",
    "    pars_func = lambda pars: jnp.repeat(softmax1(pars)[None,:], repeats=K, axis=0) # fixed pars func \n",
    "\n",
    "    # Definition dens_exact\n",
    "    find_tilt = jax.jit(lambda pis: find_optimal_tilt(pis, ecological, n, A, Niter=5, lr=1.))\n",
    "    find_notilt = jax.jit(lambda pis: find_optimal_tilt(pis, ecological, n, A, Niter=5, lr=0.))\n",
    "    estimate_prob = jax.jit(lambda keys, tilt, pis: jax.vmap(tilted_estimate, (0, 0, 0, 0, 0, None, None))(keys, tilt, pis, ecological, n, A, est_func))\n",
    "    \n",
    "    dens_exact = lambda pars, key: marginal_likelihood(key, pars, pars_func, find_tilt, estimate_prob)\n",
    "    dens_exact_notilt = lambda pars, key: marginal_likelihood(key, pars, pars_func, find_notilt, estimate_prob)\n",
    "\n",
    "    val_pars = jnp.repeat(inv_softmax1(true_sampling)[None,:], repeats=1000, axis=0)\n",
    "    keys = jax.random.split(jax.random.key(1), val_pars.shape[0])\n",
    "\n",
    "    Q_tilt = jax.vmap(dens_exact, (0, 0))(val_pars, keys)[2]\n",
    "    Q_notilt = jax.vmap(dens_exact_notilt, (0, 0))(val_pars, keys)[2]\n",
    "    \n",
    "    return np.array([np.std(Q_notilt, 0).mean()/Q_tilt.mean(), np.std(Q_tilt, 0).mean()/Q_tilt.mean()])\n",
    "    #return np.array([np.mean(Q_notilt<0), np.mean(Q_tilt<0)])\n",
    "\n",
    "est1 = jax.jit(lambda *args: estimate_small(10, *args))\n",
    "est2 = jax.jit(lambda *args: estimate_medium(10, *args))\n",
    "\n",
    "res_small = np.array([make_sim(10, est1),\n",
    " make_sim(100, est1),\n",
    " make_sim(1000, est1)])\n",
    "\n",
    "res_medium = np.array([make_sim(10, est2),\n",
    "              make_sim(100, est2),\n",
    "              make_sim(1000, est2)])"
   ]
  },
  {
   "cell_type": "code",
   "execution_count": 19,
   "metadata": {},
   "outputs": [],
   "source": [
    "tt = np.hstack([res_small, res_medium])\n",
    "res = pd.DataFrame(tt, \n",
    "             index=[10, 100, 1000], columns=[\"Uniform, no tilt\", \"Uniform, tilt\", \"Normal, no tilt\", \"Normal, tilt\"]).map(lambda x: f\"{x:.{2}e}\")\n",
    "#res.to_latex(buf=\"../docs/figures/comparison_standard_error.tex\")\n",
    "res.to_csv(\"../data/for_figures/comparison_standard_error.csv\")"
   ]
  },
  {
   "cell_type": "markdown",
   "metadata": {},
   "source": [
    "## Figure 2 – Comparison given the size of cells\n",
    "\n",
    "En fonction de la taille des cellules."
   ]
  },
  {
   "cell_type": "code",
   "execution_count": null,
   "metadata": {},
   "outputs": [],
   "source": [
    "\n",
    "true_sampling, I = make_probability_X(size_mat=3, base=1.)\n",
    "n = jnp.arange(5, 51, step=5)\n",
    "true_data, ecological, ecological_full, A = construct_synthetic(true_sampling, I, n = n)\n",
    "Nsim = 40000\n",
    "\n",
    "# Approche uniforme \n",
    "\n",
    "pars_func = jax.jit(lambda pars: jnp.repeat(softmax1(pars)[None,:], repeats=n.shape[0], axis=0))\n",
    "find_tilt = jax.jit(lambda pis: find_optimal_tilt(pis, ecological, n, A, Niter=5, lr=1.))\n",
    "est1 = jax.jit(lambda *args: estimate_small(Nsim, *args))\n",
    "estimate_prob = jax.jit(lambda keys, tilt, pis: jax.vmap(tilted_estimate, (0, 0, 0, 0, 0, None, None))(keys, tilt, pis, ecological, n, A, est1))\n",
    "dens_exact = lambda pars, key: marginal_likelihood(key, pars, pars_func, find_tilt, estimate_prob)\n",
    "\n",
    "val_pars = jnp.repeat(inv_softmax1(true_sampling)[None,:], repeats=500, axis=0)\n",
    "keys = jax.random.split(jax.random.key(1), val_pars.shape[0])\n",
    "Q_small, s_small,_ = jax.vmap(dens_exact, (0, 0))(val_pars, keys)\n",
    "\n",
    "x_small = n\n",
    "y_small = np.array(Q_small.std(0))\n",
    "y_small[s_small.mean(0)<1] = jnp.nan\n",
    "\n",
    "# Approche moyenne\n",
    "\n",
    "#n = jnp.array([1000])\n",
    "true_data, ecological, ecological_full, A = construct_synthetic(true_sampling, I, n = n)\n",
    "\n",
    "find_tilt = jax.jit(lambda pis: find_optimal_tilt(pis, ecological, n, A, Niter=5, lr=1.))\n",
    "est2 = jax.jit(lambda *args: estimate_medium(Nsim, *args))\n",
    "estimate_prob = jax.jit(lambda keys, tilt, pis: jax.vmap(tilted_estimate, (0, 0, 0, 0, 0, None, None))(keys, tilt, pis, ecological, n, A, est2))\n",
    "pars_func = jax.jit(lambda pars: jnp.repeat(softmax1(pars)[None,:], repeats=n.shape[0], axis=0))\n",
    "dens_exact = lambda pars, key: marginal_likelihood(key, pars, pars_func, find_tilt, estimate_prob)\n",
    "\n",
    "val_pars = jnp.repeat(inv_softmax1(true_sampling)[None,:], repeats=500, axis=0)\n",
    "keys = jax.random.split(jax.random.key(2), val_pars.shape[0])\n",
    "Q_medium, s_medium,_ = jax.vmap(dens_exact, (0, 0))(val_pars, keys)\n",
    "\n",
    "x_medium = n#[s_medium.mean(0)==1]\n",
    "y_medium = np.array(Q_medium.std(0))#[:,s_medium.mean(0)==1].std(0)\n",
    "y_medium[s_medium.mean(0)<1] = jnp.nan"
   ]
  },
  {
   "cell_type": "code",
   "execution_count": null,
   "metadata": {},
   "outputs": [],
   "source": [
    "fig, ax = plt.subplots(1,2, figsize=(12/2.54, 8/2.54))\n",
    "ax[0].plot(x_small, y_small, c=\"black\")\n",
    "ax[0].set_xlabel(\"Parameter $n$ of $\\mathcal{M}(n,p)$\")\n",
    "ax[0].set_ylabel(\"Standard error of log-likelihood\")\n",
    "ax[0].set_title(\"(1) Uniform (tilt)\")\n",
    "ax[0].set_xticks(np.array([5,10,20,30,40,50]))\n",
    "\n",
    "s = s_small.mean(0)\n",
    "ax[0].fill_between(range(len(s)), 0, jnp.max(y_small), where=(s < 1), alpha=0.5)\n",
    "\n",
    "ax[1].set_xlabel(\"Parameter $n$ of $\\mathcal{M}(n,p)$\")\n",
    "ax[1].plot(x_medium, y_medium,c=\"black\")\n",
    "ax[1].set_title(\"(2) Normal (tilt)\")\n",
    "\n",
    "s = s_medium.mean(0)\n",
    "ax[1].fill_between(range(len(s)), 0, jnp.max(y_medium), where=(s < 1), alpha=0.5)\n",
    "ax[1].set_xticks(np.array([5,10,20,30,40,50]))\n",
    "\n",
    "plt.style.use(\"ggplot\")\n",
    "plt.tight_layout()\n",
    "#plt.savefig(\"../docs/figures/uniform_vs_normal.pdf\")"
   ]
  },
  {
   "cell_type": "markdown",
   "metadata": {},
   "source": [
    "## Figure 3 – Relation to size of table, and to asymetry of p\n"
   ]
  },
  {
   "cell_type": "code",
   "execution_count": null,
   "metadata": {},
   "outputs": [],
   "source": [
    "def test_asymetry(base, make_prob_func, size_bur):\n",
    "    K = 200\n",
    "    true_sampling, I = make_prob_func(size_mat=3, base=base)\n",
    "    n = jnp.ones(K) * size_bur\n",
    "    true_data, ecological, ecological_full, A = construct_synthetic(true_sampling, I, n = n)\n",
    "\n",
    "    Nsim = 1000\n",
    "\n",
    "    define_functions(ecological_full, jnp.zeros_like(ecological))\n",
    "\n",
    "    pars_func = jax.jit(lambda pars: jnp.repeat(softmax1(pars)[None,:], repeats=n.shape[0], axis=0))\n",
    "    est_medium = jax.jit(lambda *args: estimate_medium(Nsim, *args))\n",
    "    find_tilt = jax.jit(lambda pis: find_optimal_tilt(pis, ecological, n, A, Niter=5, lr=1.))\n",
    "    estimate_prob = jax.jit(lambda keys, tilt, pis: jax.vmap(tilted_estimate, (0, 0, 0, 0, 0, None, None))(keys, tilt, pis, ecological, n, A, est_medium))\n",
    "\n",
    "    dens_exact = lambda pars, key: marginal_likelihood(key, pars, pars_func, find_tilt, estimate_prob)\n",
    "\n",
    "    Q = jax.vmap(dens_exact)(inv_softmax1(true_sampling)[None,:].repeat(axis=0,repeats=200), jax.random.split(jax.random.key(1), 200))[0]\n",
    "    return Q.std(0).mean()"
   ]
  },
  {
   "cell_type": "code",
   "execution_count": null,
   "metadata": {},
   "outputs": [],
   "source": [
    "size_bur = 3000\n",
    "resX = jnp.array([test_asymetry(1., make_probability_X, size_bur), \n",
    " test_asymetry(2., make_probability_X, size_bur), \n",
    " test_asymetry(5., make_probability_X, size_bur),\n",
    " test_asymetry(10., make_probability_X, size_bur)])\n",
    "\n",
    "resL = jnp.array([test_asymetry(1., make_probability_I, size_bur), \n",
    " test_asymetry(2., make_probability_I, size_bur), \n",
    " test_asymetry(5., make_probability_I, size_bur),\n",
    " test_asymetry(10., make_probability_I, size_bur)])\n"
   ]
  },
  {
   "cell_type": "code",
   "execution_count": null,
   "metadata": {},
   "outputs": [],
   "source": [
    "dt = pd.DataFrame({\"ratio biggest/smallest\": [1, 4, 25, 100],\n",
    "    \"X\":resX,\"I\":resL, \"X_relative\":resX/resX[0], \"I_relative\":resL/resL[0]})\n",
    "dt[\"X\"] = dt[\"X\"].map(lambda x: f\"{x:.{2}e}\")\n",
    "dt[\"I\"] = dt[\"I\"].map(lambda x: f\"{x:.{2}e}\")\n",
    "dt[\"X_relative\"] = dt[\"X_relative\"].map(lambda x: str(round(x,1)))\n",
    "dt[\"I_relative\"] = dt[\"I_relative\"].map(lambda x: str(round(x,1)))\n",
    "dt.index = [\"1\", \"2\", \"5\", \"10\"]\n",
    "dt.to_latex(\"../docs/figures/sparsity.tex\")"
   ]
  },
  {
   "cell_type": "code",
   "execution_count": null,
   "metadata": {},
   "outputs": [],
   "source": [
    "dt = pd.DataFrame({\"Type\":np.repeat(np.array([\"X\", \"I\"]), 4),\n",
    "                   \"Asymetry\":np.tile(np.array([\"1\", \"2\", \"5\", \"10\"]), 2),\n",
    "                   \"Sd\":np.concatenate([resX, resL])})\n",
    "\n",
    "dt.to_csv(\"../data/for_figures/sparsity.csv\")"
   ]
  },
  {
   "cell_type": "markdown",
   "metadata": {},
   "source": [
    "## Figure 3B"
   ]
  },
  {
   "cell_type": "code",
   "execution_count": 3,
   "metadata": {},
   "outputs": [],
   "source": [
    "import copy\n",
    "K = 200\n",
    "size_bur = 100\n",
    "true_sampling, I = make_probability_I(size_mat=3, base=2.)\n",
    "\n",
    "n = jnp.ones(K) * size_bur\n",
    "true_data, _, ecological_full_or, AB = construct_synthetic(true_sampling, I, n = n)\n",
    "AB, A_full = get_constraint_matrix(I)\n",
    "ecological_data = copy.deepcopy(ecological_full_or)"
   ]
  },
  {
   "cell_type": "code",
   "execution_count": 23,
   "metadata": {},
   "outputs": [],
   "source": [
    "AB = A_full[[0,1,3,4],:]\n",
    "A_bis = A_full[[2,0,1,3,4,5],:][[0,1,3,4],:]\n",
    "ecological_data_bis = copy.deepcopy([ecological_data[0][:,np.array([2,0,1])], ecological_data[1]])"
   ]
  },
  {
   "cell_type": "code",
   "execution_count": 34,
   "metadata": {},
   "outputs": [
    {
     "name": "stdout",
     "output_type": "stream",
     "text": [
      "8\n",
      "8\n"
     ]
    }
   ],
   "source": [
    "funcs1 = define_functions(ecological_data, None, Nsim=100,A=AB,pars_function=pars_func_fixed)\n",
    "res1 = jax.vmap(funcs1[\"dens_exact\"])(jnp.ones(funcs1[\"sizes\"][\"size_pars\"])[None,].repeat(3000,0), jax.random.split(jax.random.key(2), 3000))\n",
    "\n",
    "funcs2 = define_functions(ecological_data_bis, None, Nsim=100,A=A_bis,pars_function=pars_func_fixed)\n",
    "res2 = jax.vmap(funcs2[\"dens_exact\"])(jnp.ones(funcs2[\"sizes\"][\"size_pars\"])[None,].repeat(3000,0), jax.random.split(jax.random.key(2), 3000))"
   ]
  },
  {
   "cell_type": "code",
   "execution_count": 77,
   "metadata": {},
   "outputs": [],
   "source": [
    "A_ter = AB.copy()\n",
    "base = .1\n",
    "A_ter = A_ter.at[1,].set(AB[1,]+base*AB[0,])\n",
    "\n",
    "ecological_data_ter = copy.deepcopy(ecological_data)\n",
    "ecological_data_ter[0][1,] = ecological_data_ter[0][0,] + base*ecological_data_ter[0][1,]"
   ]
  },
  {
   "cell_type": "code",
   "execution_count": 78,
   "metadata": {},
   "outputs": [],
   "source": [
    "def define_density(logprior, estimate_function, Nsim, I, ecological_full, ecological, context, n, A, pars_function):\n",
    "\n",
    "    pars_func = lambda pars: pars_function(pars, ecological, ecological_full, context, n, I)\n",
    "    find_tilt = lambda pis: find_optimal_tilt(pis, ecological, n, A, Niter=2000, lr=1e-8)\n",
    "    est_func = lambda *args: estimate_function(Nsim, *args)\n",
    "    estimate_prob = lambda keys, tilt, pis: jax.vmap(tilted_estimate, (0, 0, 0, 0, 0, None, None))(keys, tilt, pis, ecological, n, A, est_func)\n",
    "    dens_exact = lambda pars, key: marginal_likelihood(key, pars, pars_func, find_tilt, estimate_prob)[0].sum() + logprior(pars)\n",
    "    logpost_diag =  lambda pars, key: marginal_likelihood(key, pars, pars_func, find_tilt, estimate_prob)\n",
    "\n",
    "    return dens_exact, logpost_diag\n",
    "\n",
    "def find_optimal_tilt(pis, ecological, n, A, Niter, lr):\n",
    "    tilt = jnp.zeros((ecological.shape[0], A.shape[0]))\n",
    "    \n",
    "    body_func = lambda tilt: jax.vmap(body_func_gd, in_axes=(0, 0, 0, 0, None, None))(tilt, pis, ecological, n, A, lr)\n",
    "\n",
    "    def loop_body(iter_idx, tilt):\n",
    "        return body_func(tilt)\n",
    "\n",
    "    final_tilt = jax.lax.fori_loop(0, Niter, loop_body, tilt)\n",
    "    return final_tilt\n",
    "\n",
    "def body_func_gd_(tilt, pis, obs, n, A, lr):\n",
    "    grad_ = (jax.grad(lambda t, p, n, A: cumulant_multinom(A.T @ t, p, n))(tilt, pis, n, A) - obs) + (obs < 0.1) * jax.grad(lambda tilt: 1e-3*(tilt**2).sum())(tilt)\n",
    "    return tilt - lr @ (grad_)\n",
    "\n",
    "body_func_gd = jax.jit(body_func_gd_)"
   ]
  },
  {
   "cell_type": "code",
   "execution_count": 79,
   "metadata": {},
   "outputs": [
    {
     "name": "stdout",
     "output_type": "stream",
     "text": [
      "8\n",
      "0.08788322 0.08788322 0.09816043\n"
     ]
    }
   ],
   "source": [
    "funcs3 = define_functions(ecological_data_ter, None, Nsim=100,A=A_ter,pars_function=pars_func_fixed)\n",
    "res3 = jax.vmap(funcs3[\"dens_exact\"])(jnp.ones(funcs3[\"sizes\"][\"size_pars\"])[None,].repeat(3000,0), jax.random.split(jax.random.key(2), 3000))\n",
    "print(res1.std(), res2.std(), res3.std())"
   ]
  },
  {
   "cell_type": "markdown",
   "metadata": {},
   "source": [
    "## Figure 4 – Tail behavior "
   ]
  },
  {
   "cell_type": "code",
   "execution_count": null,
   "metadata": {},
   "outputs": [],
   "source": [
    "true_sampling, I = make_probability_X(size_mat=3, base=1.)\n",
    "false_sampling, _ = make_probability_X(size_mat=3, base=3.)\n",
    "\n",
    "K = 200\n",
    "n = jnp.ones(K) * 1000\n",
    "_, ecological_true, _, A = construct_synthetic(true_sampling, I, n = n)\n",
    "_, ecological_false, _, A = construct_synthetic(false_sampling, I, n = n)\n",
    "Nsim = 1000\n",
    "\n",
    "pars_func = jax.jit(lambda pars: jnp.repeat(softmax1(pars)[None,:], repeats=n.shape[0], axis=0))\n",
    "est_func = jax.jit(lambda *args: estimate_medium(Nsim, *args))\n",
    "estimate_prob_true = jax.jit(lambda keys, tilt, pis: jax.vmap(tilted_estimate, (0, 0, 0, 0, 0, None, None))(keys, tilt, pis, ecological_true, n, A, est_func))\n",
    "estimate_prob_false = jax.jit(lambda keys, tilt, pis: jax.vmap(tilted_estimate, (0, 0, 0, 0, 0, None, None))(keys, tilt, pis, ecological_false, n, A, est_func))\n",
    "\n",
    "find_true_tilt = jax.jit(lambda pis: find_optimal_tilt(pis, ecological_true, n, A, Niter=5, lr=1.))\n",
    "find_true_notilt = jax.jit(lambda pis: find_optimal_tilt(pis, ecological_true, n, A, Niter=5, lr=0.))\n",
    "find_false_tilt = jax.jit(lambda pis: find_optimal_tilt(pis, ecological_false, n, A, Niter=5, lr=1.))\n",
    "find_false_notilt = jax.jit(lambda pis: find_optimal_tilt(pis, ecological_false, n, A, Niter=5, lr=0.))\n",
    "\n",
    "dens_true_tilt = lambda pars, key: marginal_likelihood(key, pars, pars_func, find_true_tilt, estimate_prob_true)\n",
    "dens_true_notilt = lambda pars, key: marginal_likelihood(key, pars, pars_func, find_true_notilt, estimate_prob_true)\n",
    "dens_false_tilt = lambda pars, key: marginal_likelihood(key, pars, pars_func, find_false_tilt, estimate_prob_false)\n",
    "dens_false_notilt = lambda pars, key: marginal_likelihood(key, pars, pars_func, find_false_notilt, estimate_prob_false)\n",
    "\n",
    "val_pars = jnp.repeat(inv_softmax1(true_sampling)[None,:], repeats=200, axis=0)\n",
    "\n",
    "keys = jax.random.split(jax.random.key(3), val_pars.shape[0])\n",
    "\n",
    "Q_true_tilt = jax.vmap(dens_true_tilt, (0, 0))(val_pars, keys)[0].std(0).mean()\n",
    "Q_true_notilt = jax.vmap(dens_true_notilt, (0, 0))(val_pars, keys)[0].std(0).mean()\n",
    "Q_false_tilt = jax.vmap(dens_false_tilt, (0, 0))(val_pars, keys)[0].std(0).mean()\n",
    "Q_false_notilt = jax.vmap(dens_false_notilt, (0, 0))(val_pars, keys)[0].std(0).mean()\n"
   ]
  },
  {
   "cell_type": "code",
   "execution_count": null,
   "metadata": {},
   "outputs": [],
   "source": [
    "dt = pd.DataFrame(\n",
    "    {\"Value\":[Q_true_tilt, Q_true_notilt, Q_false_tilt, Q_false_notilt], \n",
    "     \"Tilting\": [\"Tilting\", \"No tilting\", \"Tilting\", \"No tilting\"],\n",
    "     \"Observation\": [\"Close to Mode\", \"Close to Mode\", \"Tail\", \"Tail\"]})\n",
    "dt.to_csv(\"../data/for_figures/tail_behavior.csv\")"
   ]
  },
  {
   "cell_type": "markdown",
   "metadata": {},
   "source": [
    "## Figure A1 – Importance sampling ESS calculation"
   ]
  },
  {
   "cell_type": "code",
   "execution_count": null,
   "metadata": {},
   "outputs": [],
   "source": [
    "\n",
    "def figureA1(size_bur, base, Nsim, make_prob_func,size_mat=3):\n",
    "    K = 200\n",
    "    Nmax = 200\n",
    "    true_sampling, I = make_prob_func(size_mat=size_mat, base = base)\n",
    "    n = jnp.ones(K)*size_bur\n",
    "    true_data, ecological, ecological_full, A = construct_synthetic(true_sampling, I, n = n)\n",
    "    \"\"\n",
    "    init_state = jnp.ones(A.shape[1]-1)\n",
    "    func1 = lambda pars: dens_approx_constant(pars, ecological, n, A)\n",
    "    chain = get_approximate(init_state, Nmax, ecological, n, A, doublings=10, dens_approx_func=func1)\n",
    "\n",
    "    # Define functions\n",
    "    est_medium = jax.jit(lambda *args: estimate_medium(Nsim, *args))\n",
    "    find_tilt = jax.jit(lambda pis: find_optimal_tilt(pis, ecological, n, A, Niter=5, lr=1.))\n",
    "    estimate_prob = jax.jit(lambda keys, tilt, pis: jax.vmap(tilted_estimate, (0, 0, 0, 0, 0, None, None))(keys, tilt, pis, ecological, n, A, est_medium))\n",
    "\n",
    "    dens_exact = lambda pars, key: marginal_likelihood_fixed(key, pars, K, find_tilt, estimate_prob)\n",
    "\n",
    "    P = jax.vmap(dens_approx_constant, (0, None, None, None))(chain[100:,], ecological, n, A)\n",
    "    Q = jax.vmap(dens_exact)(chain[100:,], jax.random.split(jax.random.key(0), chain[100:,].shape[0]))[0].sum(1)\n",
    "    w = jnp.exp(Q-P - jnp.max(Q-P))\n",
    "    ESS = (w.sum()**2)/(w**2).sum()\n",
    "\n",
    "    return ESS"
   ]
  },
  {
   "cell_type": "code",
   "execution_count": null,
   "metadata": {},
   "outputs": [],
   "source": [
    "figureA1(100, 5., 5000, make_probability_X, 4)"
   ]
  },
  {
   "cell_type": "code",
   "execution_count": null,
   "metadata": {},
   "outputs": [],
   "source": [
    "dd1a = jnp.array([figureA1(50, 2., 5000, make_probability_I),\n",
    "                  figureA1(1000, 2., 5000, make_probability_I)])\n",
    "\n",
    "dd1b = jnp.array([figureA1(50, 5., 5000, make_probability_I),\n",
    "                  figureA1(1000, 5., 5000, make_probability_I)])\n",
    "\n",
    "dd2a = jnp.array([figureA1(50, 2., 5000, make_probability_X),\n",
    "                  figureA1(1000, 2., 5000, make_probability_X)])\n",
    "\n",
    "dd2b = jnp.array([figureA1(50, 5., 5000, make_probability_X),\n",
    "                  figureA1(1000, 5., 5000, make_probability_X)])"
   ]
  },
  {
   "cell_type": "code",
   "execution_count": null,
   "metadata": {},
   "outputs": [],
   "source": [
    "# \n",
    "res = pd.DataFrame({\"value\":jnp.concatenate([dd1a, dd1b, dd2a, dd2b]),\n",
    "    \"n\":np.repeat(np.array([50, 1000])[None,:], 4, 0).flatten(),\n",
    "\"multiplier\":np.repeat(np.repeat(np.array([\"Sparsity multiplier 2\", \"Sparsity multiplier 5\"]), 2, 0)[None,:], 2, 0).flatten(),\n",
    "\"Type\":np.repeat(np.array([\"I-shape\", \"X-shape\"]), 4)})\n",
    "res.to_csv(\"../data/for_figures/evaluate_ESS.csv\")"
   ]
  },
  {
   "cell_type": "markdown",
   "metadata": {},
   "source": [
    "## Figure A2 – Idea of conditional probability"
   ]
  },
  {
   "cell_type": "code",
   "execution_count": null,
   "metadata": {},
   "outputs": [],
   "source": [
    "K = 200\n",
    "size_bur = 150\n",
    "Nsim = 100\n",
    "true_sampling, I = make_probability_I(size_mat=3, base = 3.)\n",
    "n = jnp.ones(K)*size_bur\n",
    "true_data, ecological, ecological_full, A = construct_synthetic(true_sampling, I, n = n)\n",
    "true_cond_sampling = inv_softmax2(true_sampling.reshape(I) / true_sampling.reshape(I).sum(1)[:,None])\n",
    "\n",
    "est_medium = jax.jit(lambda *args: estimate_medium(Nsim, *args))\n",
    "find_tilt = jax.jit(lambda pis: find_optimal_tilt(pis, ecological, n, A, Niter=5, lr=1.))\n",
    "estimate_prob = jax.jit(lambda keys, tilt, pis: jax.vmap(tilted_estimate, (0, 0, 0, 0, 0, None, None))(keys, tilt, pis, ecological, n, A, est_medium))\n",
    "\n",
    "dens_exact_cond = lambda pars, key: marginal_likelihood_margleft(key, pars, n, ecological_full, I, find_tilt, estimate_prob)\n",
    "dens_exact = lambda pars, key: marginal_likelihood_fixed(key, pars, K, find_tilt, estimate_prob)\n",
    "\n",
    "res_norm = jax.vmap(dens_exact)(inv_softmax1(true_sampling)[None,:].repeat(100,0), jax.random.split(jax.random.key(1), 100))[0].sum(1)\n",
    "res_cond = jax.vmap(dens_exact_cond)(true_cond_sampling[None,:].repeat(100,0), jax.random.split(jax.random.key(1),100))[0].sum(1)\n",
    "\n",
    "dd = pd.DataFrame({\"Method\": [\"Fixed probability\", \"Conditional Probability\"], \"Standard Error of the log-likelihood\":[res_norm.std(), res_cond.std()]})\n",
    "dd.iloc[:,1] = dd.iloc[:,1].map(lambda x: f\"{x:.{2}e}\")\n",
    "\n",
    "dd.to_latex(\"../docs/figures/conditional_probability.tex\")"
   ]
  },
  {
   "cell_type": "markdown",
   "metadata": {},
   "source": [
    "# Example on true data"
   ]
  },
  {
   "cell_type": "markdown",
   "metadata": {},
   "source": [
    "## Version prsidential 2007"
   ]
  },
  {
   "cell_type": "markdown",
   "metadata": {},
   "source": [
    "### Running the analysis"
   ]
  },
  {
   "cell_type": "code",
   "execution_count": 2,
   "metadata": {},
   "outputs": [],
   "source": [
    "## Data pre-processing ##\n",
    "\n",
    "rdt1 = pd.read_csv(base_file_pres2007 + \"p2007_t1.csv\")\n",
    "rdt2 = pd.read_csv(base_file_pres2007 + \"p2007_t2.csv\")\n",
    "\n",
    "## Selecting on rows ## \n",
    "otherT1 = rdt1.loc[:,[\"besa\", \"vill\", \"buff\", \"voyn\", \"lagu\", \"bove\", \"niho\", \"schi\", \"blanc\"]].sum(1)\n",
    "otherT2 = rdt2.loc[:,[\"blanc\",\"abstention\"]].sum(1)\n",
    "\n",
    "crit_full = (otherT1 + rdt1[\"abstention\"] < rdt1[\"total\"]) & (otherT2 < rdt2[\"total\"])\n",
    "cc_full = np.arange(rdt1.shape[0])[crit_full]\n",
    "list_idf = [75, 92, 93, 94, 77, 78, 91, 95]\n",
    "cc_idf = np.arange(rdt1.shape[0])[crit_full & (rdt1[\"code_dept\"].isin(list_idf))]\n",
    "\n",
    "## Selecting on columns ##\n",
    "\n",
    "# Small version\n",
    "rdt1b = rdt1.loc[:,[\"sark\", \"roya\", \"bayr\", \"lepe\", \"abstention\"]].copy()\n",
    "rdt1b[\"other\"] = otherT1\n",
    "\n",
    "rdt2b = rdt2.loc[:,[\"sark\", \"roya\"]].copy()\n",
    "rdt2b[\"other\"] = otherT2\n",
    "\n",
    "data_small = [rdt1b, rdt2b]\n",
    "\n",
    "# Large version\n",
    "\n",
    "rdt1b = rdt1.loc[:,[\"sark\", \"roya\", \"bayr\", \"lepe\"]].copy()\n",
    "rdt1b[\"other_left\"] = rdt1.loc[:,[\"besa\", \"buff\", \"voyn\", \"lagu\", \"bove\", \"schi\"]].sum(1)\n",
    "rdt1b[\"other_right\"] = rdt1.loc[:,[\"vill\", \"niho\"]].sum(1)\n",
    "rdt1b[\"other\"] =  rdt1.loc[:,[\"abstention\",\"blanc\"]].sum(1)\n",
    "\n",
    "rdt2b = rdt2.loc[:,[\"roya\", \"sark\"]].copy()\n",
    "rdt2b[\"other\"] = otherT2\n",
    "\n",
    "\n",
    "data_large = [rdt1b, rdt2b]"
   ]
  },
  {
   "cell_type": "code",
   "execution_count": null,
   "metadata": {},
   "outputs": [],
   "source": [
    "# Analysis of Gaussianity on IDF #\n",
    "\n",
    "full_inference(data=apply_sel(data_small, cc_idf), save_as=base_file_save+\"pres2007_idf_fixed\",\n",
    "                     type_model = \"fixed\", step3_Nmax=1000, step3_Nchains=5, step3_parallel = True,\n",
    "                     step3_type=\"IS\", try_gaussian=False)\n",
    "\n",
    "full_inference(data=apply_sel(data_small, cc_idf), save_as=base_file_save+\"pres2007_idf_fixed_gaussian\",\n",
    "                     type_model = \"fixed\", step3_Nmax=1000, step3_Nchains=5, step3_parallel = True,\n",
    "                     step3_type=\"IS\", try_gaussian=True)\n",
    "\n",
    "# Small version #\n",
    "\n",
    "print(\"Full\")\n",
    "\n",
    "full_inference(data=apply_sel(data_small, cc_full), save_as=base_file_save+\"pres2007_full\",\n",
    "                     type_model = \"margleft\", step3_Nmax=1000, step3_Nchains=5, step3_parallel = True,\n",
    "                     step3_type=\"IS\", try_gaussian=False)\n"
   ]
  },
  {
   "cell_type": "markdown",
   "metadata": {},
   "source": [
    "### Figure 1 - Gaussian approximation evaluation"
   ]
  },
  {
   "cell_type": "code",
   "execution_count": 3,
   "metadata": {},
   "outputs": [],
   "source": [
    "with open(\"../data/results/inference_pres2007_idf_fixed\", \"rb\") as file:\n",
    "    res_true = pickle.load(file)\n",
    "\n",
    "with open(\"../data/results/inference_pres2007_idf_fixed_gaussian\", \"rb\") as file:\n",
    "    res_gaus = pickle.load(file)"
   ]
  },
  {
   "cell_type": "code",
   "execution_count": 9,
   "metadata": {},
   "outputs": [],
   "source": [
    "cols1 = [\"Sarkozy (right)\", \"Royal (left)\", \"Bayrou (center)\", \"Abstention\", \"Le Pen (far-right)\", \"Other\"]\n",
    "cols2 = [\"Royal (left)\", 'Sarkozy (right)', \"Other\"]\n",
    "\n",
    "dt_true = pd.melt(make_posterior_pretty(res_true[\"step3\"][\"quants\"], cols1, cols2))\n",
    "dt_true[\"type\"] = \"True model\"\n",
    "dt_true[\"vote_t2\"] = np.tile(cols1, dt_true.shape[0]//len(cols1))\n",
    "dt_true.columns = [\"vote_t2\", \"confidence\", \"value\", \"model\", \"vote_t1\"]\n",
    "\n",
    "dt_gaus = pd.melt(make_posterior_pretty(res_gaus[\"step3b\"][\"quants\"], cols1, cols2))\n",
    "dt_gaus[\"type\"] = \"Gaussian model\"\n",
    "dt_gaus[\"vote_t2\"] = np.tile(cols1, dt_gaus.shape[0]//len(cols1))\n",
    "dt_gaus.columns = [\"vote_t2\", \"confidence\", \"value\", \"model\", \"vote_t1\"]\n"
   ]
  },
  {
   "cell_type": "code",
   "execution_count": 10,
   "metadata": {},
   "outputs": [],
   "source": [
    "dt = pd.concat([dt_true, dt_gaus])\n",
    "dt.columns = [\"vote_t2\", \"confidence\", \"value\", \"model\", \"vote_t1\"]\n",
    "dt.to_csv(\"../data/for_figures/comparison_gaussian.csv\")"
   ]
  },
  {
   "cell_type": "markdown",
   "metadata": {},
   "source": [
    "### Figure 2  - All France, all candidates"
   ]
  },
  {
   "cell_type": "code",
   "execution_count": 6,
   "metadata": {},
   "outputs": [],
   "source": [
    "with open(\"../data/results/inference_pres2007_full\", \"rb\") as file:\n",
    "    res_full = pickle.load(file)\n",
    "\n",
    "rows = [\"Sarkozy\", \"Royal\", \"Bayrou\", \"Le Pen\", \"Abstention\", \"Other\"]\n",
    "cols = [\"Sarkozy\", \"Royal\", \"Other\"]\n",
    "df = make_posterior_pretty(res_full[\"step3\"][\"quants\"], rows, cols)\n",
    "\n",
    "df2 = pd.melt(df)\n",
    "df2[\"vote_t2\"] = np.tile(rows, df2.shape[0]//len(rows))\n",
    "df2.columns.set_names([\"\"], inplace=True)\n",
    "df2.columns = [\"vote_t1\", \"quantile\", \"value\", \"vote_t2\"]\n",
    "df2.to_csv(\"../data/for_figures/full_france_small.csv\")\n",
    "\n",
    "df3 =df.xs('.5', level=1, axis=1)\n",
    "df3.columns.set_names([\"\"], inplace=True)\n",
    "df3.to_latex(\"../docs/figures/full_france.tex\",float_format=\"%.2f\")"
   ]
  },
  {
   "cell_type": "markdown",
   "metadata": {},
   "source": [
    "## Version legislatives 2024 "
   ]
  },
  {
   "cell_type": "markdown",
   "metadata": {},
   "source": [
    "### Running the analysis"
   ]
  },
  {
   "cell_type": "code",
   "execution_count": 2,
   "metadata": {},
   "outputs": [],
   "source": [
    "rdt1 = pd.read_csv(base_file_legi2024+\"l2024_T1.csv\")\n",
    "rdt2 = pd.read_csv(base_file_legi2024+\"l2024_T2.csv\")\n",
    "\n",
    "codex1 = pd.read_csv(base_file_legi2024+\"l2024_codex1.csv\")\n",
    "codex2 = pd.read_csv(base_file_legi2024+\"l2024_codex2.csv\")\n",
    "\n",
    "situations = pd.read_csv(base_file_legi2024+\"l2024_situation_circos.csv\").rename(columns={\"situation_code\":\"code\"})\n",
    "situations = situations[situations[\"code\"] > 0].copy()\n",
    "\n",
    "name_circs_tab = pd.read_csv(base_file_legi2024+\"l2024_name_circos.csv\")\n",
    "name_circs_tab = name_circs_tab.set_index(name_circs_tab[\"code_circ\"])\n",
    "name_circs = dict(name_circs_tab[\"name_circ\"])\n",
    "name_circs_tab = name_circs_tab.drop(labels=(\"code_circ\"), axis=1)\n",
    "name_circs_tab = name_circs_tab.reset_index()\n",
    "\n",
    "list_circo1 = list(situations[situations[\"code\"] > 0][\"code_circ\"])\n",
    "num_circo = 268\n",
    "\n",
    "def get_data(num_circo, name=\"name_long\"):\n",
    "\n",
    "    # Cand 1\n",
    "    rdt1b = rdt1[rdt1[\"code_circ\"]==num_circo].reset_index()\n",
    "    nt1 = rdt1b.loc[0,\"n_cand\"]\n",
    "    cand1 = [\"abstention\", \"blanc_nul\"]\n",
    "    cand1.extend([\"V\"+str(i) for i in range(1, nt1+1)])\n",
    "\n",
    "    rdt1c = rdt1b.loc[:,cand1]\n",
    "    to_keep1 = (rdt1c.sum(0) / rdt1c.sum().sum() > 0.05)\n",
    "\n",
    "    rdt1d = rdt1c.loc[:,to_keep1].copy()\n",
    "    rdt1d[\"other\"] = rdt1c.loc[:,~to_keep1].sum(1)\n",
    "\n",
    "    codex1b = codex1[codex1[\"code_circ\"]==num_circo].copy()\n",
    "    codex1b.index = rdt1c.columns[2:]\n",
    "    codex1c = codex1b.loc[to_keep1]\n",
    "\n",
    "    # Cand 2\n",
    "    rdt2b = rdt2[rdt2[\"code_circ\"]==num_circo].reset_index()\n",
    "    nt2 = rdt2b.loc[0,\"n_cand\"]\n",
    "    cand2 = [\"abstention\", \"blanc_nul\"]\n",
    "    cand2.extend([\"V\"+str(i) for i in range(1, nt2+1)])\n",
    "    rdt2c = rdt2b.loc[:,cand2]\n",
    "    to_keep2 = (rdt2c.sum(0) / rdt2c.sum().sum() > 0.05)\n",
    "\n",
    "    rdt2d = rdt2c.loc[:,to_keep2].copy()\n",
    "    rdt2d[\"other\"] = rdt2c.loc[:,~to_keep2].sum(1)\n",
    "\n",
    "    codex2b = codex2[codex2[\"code_circ\"]==num_circo].copy()\n",
    "    codex2b.index = rdt2c.columns[2:]\n",
    "    codex2c = codex2b.loc[to_keep2]\n",
    "\n",
    "    data = [rdt1d.astype(int), rdt2d.astype(int)]\n",
    "    codex = [codex1c, codex2c]\n",
    "\n",
    "    cc1 = []\n",
    "    for item in data[0].columns:\n",
    "        if item[0]==\"V\": cc1.append(codex[0].loc[item,name])\n",
    "        else: cc1.append(item)\n",
    "\n",
    "    cc2 = []\n",
    "    for item in data[1].columns:\n",
    "        if item[0]==\"V\": cc2.append(codex[1].loc[item,name])\n",
    "        else: cc2.append(item)\n",
    "\n",
    "    data[0].columns = cc1\n",
    "    data[1].columns = cc2\n",
    "\n",
    "    return data, codex\n",
    "\n",
    "def full_inference_remote(num_circo):\n",
    "    return full_inference(get_data(num_circo)[0], \"legis2024_circo_\"+str(num_circo), type=\"margleft\", scale_step3=\"medium\", Nmax_step1 = 200, \n",
    "                   Nmax_step2=1000, Nmax_step2b = 1000, Nmax_step3b=5000, Nmax_step3c=500, \n",
    "                   base_file=base_file_save, use_qmc=False, save_full_posterior=False, type_machine = type_machine, correct = True)\n",
    "\n",
    "list_circo = list(situations[situations[\"code\"] > 0][\"code_circ\"])"
   ]
  },
  {
   "cell_type": "code",
   "execution_count": null,
   "metadata": {},
   "outputs": [],
   "source": [
    "current_circo = dict()\n",
    "i = 0\n",
    "for num_circo in list_circo1:\n",
    "    current_circo[num_circo] = full_inference_remote(num_circo)\n",
    "\n",
    "    i += 1\n",
    "    if i % 20 == 0:\n",
    "        with open(base_file_save+\"legi2024_circos_\"+str(num_circo), \"wb\") as file:\n",
    "            pickle.dump(current_circo)\n",
    "\n",
    "        current_circo = dict()\n",
    "\n",
    "import time"
   ]
  },
  {
   "cell_type": "markdown",
   "metadata": {},
   "source": [
    "### Figures "
   ]
  },
  {
   "cell_type": "code",
   "execution_count": 3,
   "metadata": {},
   "outputs": [],
   "source": [
    "# Circos 1 à 4: simple joint\n",
    "\n",
    "with open(base_file_save+\"legi2024_circos_all1\", \"rb\") as file: res1 = pickle.load(file)\n",
    "with open(base_file_save+\"legi2024_circos_all2\", \"rb\") as file: res2 = pickle.load(file)\n",
    "with open(base_file_save+\"legi2024_circos_all3\", \"rb\") as file: res3 = pickle.load(file)\n",
    "with open(base_file_save+\"legi2024_circos_all4\", \"rb\") as file: res4 = pickle.load(file)\n",
    "with open(base_file_save+\"legi2024_circos_all5\", \"rb\") as file: res5 = pickle.load(file)\n",
    "with open(base_file_save+\"legi2024_circos_all6\", \"rb\") as file: res6 = pickle.load(file)\n",
    "with open(base_file_save+\"legi2024_circos_all7\", \"rb\") as file: res7 = pickle.load(file)\n",
    "\n",
    "circos = (res1 | res2 | res3 | res4 | res5 | res6 | res7)\n",
    "circos = {circo_id:circos[circo_id] for circo_id in circos.keys() if circo_id in name_circs.keys()}\n",
    "\n",
    "sit1 = situations[situations[\"code\"]==1][\"code_circ\"]\n",
    "sit2 = situations[situations[\"code\"]==2][\"code_circ\"]\n",
    "sit3 = situations[situations[\"code\"]==3][\"code_circ\"]\n",
    "sit4 = situations[situations[\"code\"]==4][\"code_circ\"]\n",
    "\n",
    "codex1[\"name_long2\"] = codex1[\"name\"] + \" \" + codex1[\"orientation\"] \n",
    "codex2[\"name_long2\"] = codex2[\"name\"] + \" \" + codex2[\"orientation\"]\n",
    "\n",
    "pretty_graphs = dict()\n",
    "pretty_graphs_full = dict()\n",
    "for num_circo in circos.keys():\n",
    "    pretty_graphs[num_circo] = make_posterior_pretty(circos[num_circo][\"quants\"], get_data(num_circo, \"bloc\")[0][0].columns, get_data(num_circo, \"bloc\")[0][1].columns)\n",
    "\n",
    "for num_circo in circos.keys():\n",
    "    pretty_graphs_full[num_circo] = make_posterior_pretty(circos[num_circo][\"quants\"], get_data(num_circo, \"name_long2\")[0][0].columns, get_data(num_circo, \"name_long2\")[0][1].columns)\n"
   ]
  },
  {
   "cell_type": "markdown",
   "metadata": {},
   "source": [
    "### Figure 8"
   ]
  },
  {
   "cell_type": "code",
   "execution_count": 12,
   "metadata": {},
   "outputs": [],
   "source": [
    "num = 0\n",
    "ll1 = []\n",
    "ll2 = []\n",
    "ll3 = []\n",
    "ll4 = []\n",
    "for num in sit1:\n",
    "    item = pretty_graphs[num].loc[\"center\",\"left\"][\".5\"]\n",
    "    if not np.isnan(item).any() and np.array(item).reshape(1,-1).shape[1] == 1:\n",
    "        ll1.append((num, 1, item))\n",
    "    \n",
    "for num in sit2:\n",
    "    item = pretty_graphs[num].loc[\"center\",\"left\"][\".5\"]\n",
    "    if not np.isnan(item).any() and np.array(item).reshape(1,-1).shape[1] == 1:\n",
    "        ll2.append((num, 2, item))\n",
    "\n",
    "for num in sit3:\n",
    "    item = pretty_graphs[num].loc[\"left\",\"center\"][\".5\"]\n",
    "    if not np.isnan(item).any() and np.array(item).reshape(1,-1).shape[1] == 1:\n",
    "        ll3.append((num, 3, item))\n",
    "\n",
    "for num in sit4:\n",
    "    item = pretty_graphs[num].loc[\"left\",\"center\"][\".5\"]\n",
    "    if not np.isnan(item).any() and np.array(item).reshape(1,-1).shape[1] == 1:\n",
    "        ll4.append((num, 4, item))\n",
    "\n",
    "outcomes = pd.concat([pd.DataFrame(ll1), pd.DataFrame(ll2), pd.DataFrame(ll3), pd.DataFrame(ll4)])\n",
    "outcomes.columns = [\"code_circ\", \"situation\", \"prob\"]\n",
    "outcomes = pd.merge(outcomes, name_circs_tab, on = \"code_circ\")\n",
    "outcomes = pd.merge(outcomes, situations.loc[:,[\"code_circ\", \"share_far_right\", \"share_strongest\"]])\n",
    "outcomes.to_csv(\"../data/for_figures/outcomes_all_constituencies.csv\")\n",
    "outcomes.to_csv(\"../data/for_figures/constituencies.csv\")"
   ]
  },
  {
   "cell_type": "markdown",
   "metadata": {},
   "source": [
    "### Table for individual candidates"
   ]
  },
  {
   "cell_type": "code",
   "execution_count": 6,
   "metadata": {},
   "outputs": [],
   "source": [
    "dt1 = pretty_graphs_full[83]\n",
    "dt1.columns.set_names(['', ''], inplace=True)\n",
    "dt1.to_latex(\"../docs/figures/borne.tex\", float_format=lambda x: f\"{x:.2f}\")\n",
    "\n",
    "dt2 = pretty_graphs_full[171]\n",
    "dt2.columns.set_names(['', ''], inplace=True)\n",
    "dt2.to_latex(\"../docs/figures/ruffin.tex\", float_format=lambda x: f\"{x:.2f}\")\n",
    "\n",
    "dt3 = pretty_graphs_full[489]\n",
    "dt3.columns.set_names(['', ''], inplace=True)\n",
    "dt3.to_latex(\"../docs/figures/darmanin.tex\", float_format=lambda x: f\"{x:.2f}\")\n",
    "\n",
    "dt4 = pretty_graphs_full[274]\n",
    "dt4.columns.set_names(['', ''], inplace=True)\n",
    "dt4.to_latex(\"../docs/figures/leaument.tex\", float_format=lambda x: f\"{x:.2f}\")\n",
    "# remove _"
   ]
  },
  {
   "cell_type": "markdown",
   "metadata": {},
   "source": [
    "### Figure 9"
   ]
  },
  {
   "cell_type": "code",
   "execution_count": 7,
   "metadata": {},
   "outputs": [],
   "source": [
    "rr = pd.read_csv(\"../data/source/legislatives_2024/l2024_circos_FP.csv\")\n",
    "rr.columns = [\"code_circ\", \"type_FP\"]\n",
    "rr[\"code_circ2\"] = rr[\"code_circ\"].str.slice(0,2).astype(int).astype(str) + \"_\" + \\\n",
    "rr[\"code_circ\"].str.slice(3,5).astype(int).astype(str)\n",
    "\n",
    "outcomes[\"code_circ2\"] = outcomes[\"code_dept\"].astype(int).astype(str) + \"_\" + \\\n",
    "outcomes[\"number_circ\"].astype(int).astype(str)\n",
    "\n",
    "outcomes2 = pd.merge(outcomes, rr.loc[:,[\"type_FP\",\t\"code_circ2\"]], on  = \"code_circ2\")\n",
    "outcomes2.to_csv(\"../data/for_figures/FP_cases.csv\")"
   ]
  },
  {
   "cell_type": "markdown",
   "metadata": {},
   "source": [
    "## Version presidential 2022 "
   ]
  },
  {
   "cell_type": "markdown",
   "metadata": {},
   "source": [
    "### Inference"
   ]
  },
  {
   "cell_type": "code",
   "execution_count": 8,
   "metadata": {},
   "outputs": [
    {
     "name": "stderr",
     "output_type": "stream",
     "text": [
      "/var/folders/0j/b8bz5gg103z938104j9zdl7w0000gn/T/ipykernel_67727/1075293088.py:1: DtypeWarning: Columns (0,2,4) have mixed types. Specify dtype option on import or set low_memory=False.\n",
      "  rdt1 = pd.read_csv(base_file_pres2022+\"p2022_t1_net.csv\")\n"
     ]
    }
   ],
   "source": [
    "rdt1 = pd.read_csv(base_file_pres2022+\"p2022_t1_net.csv\")\n",
    "rdt2 = pd.read_csv(base_file_pres2022+\"p2022_t2_net.csv\")\n",
    "context = pd.read_csv(base_file_pres2022+\"p2022_context_net.csv\")\n",
    "\n",
    "rdt1b = rdt1.loc[:,[\"Macron\", \"Le Pen\", \"Melenchon\"]]\n",
    "rdt1b[\"other\"] = rdt1[\"Hidalgo\"] + rdt1[\"Roussel\"] + rdt1[\"Poutou\"] + rdt1[\"Arthaud\"] + rdt1[\"Jadot\"] + \\\n",
    "rdt1[\"Lassalle\"] + rdt1[\"Dupont-Aignan\"] + rdt1[\"Pecresse\"] + rdt1[\"abstention\"] + rdt1[\"blanc_nul\"] + rdt1[\"Zemmour\"]\n",
    "\n",
    "rdt2b = rdt2.loc[:,[\"Macron\", \"Le Pen\"]]\n",
    "rdt2b[\"other\"] = rdt2[\"abstention\"] + rdt2[\"blanc_nul\"]\n",
    "\n",
    "contextb = context.loc[:,[\"density\"]]\n",
    "dens_mean = contextb[\"density\"].mean()\n",
    "dens_std = contextb[\"density\"].std()\n",
    "contextb[\"density\"] = (contextb[\"density\"] - dens_mean)/dens_std\n",
    "\n",
    "\n",
    "otherT1 = rdt1[\"total\"] -  rdt1.loc[:,[\"Macron\", \"Le Pen\", \"Melenchon\"]].sum(1)\n",
    "otherT2 = rdt2[\"total\"] - rdt2.loc[:,[\"Macron\", \"Le Pen\"]].sum(1)\n",
    "crit_full = (otherT1 < rdt1[\"total\"]) & (otherT2 < rdt2[\"total\"])\n",
    "\n",
    "data = [rdt1b, rdt2b, contextb]\n",
    "crit_full = ~np.isnan(context[\"density\"])\n",
    "cc = np.arange(rdt1.shape[0])[crit_full]\n",
    "\n",
    "data2 = apply_sel(data, cc)\n",
    "type = \"covariate1\""
   ]
  },
  {
   "cell_type": "code",
   "execution_count": 9,
   "metadata": {},
   "outputs": [
    {
     "name": "stdout",
     "output_type": "stream",
     "text": [
      "Step 1\n"
     ]
    },
    {
     "name": "stderr",
     "output_type": "stream",
     "text": [
      "  0%|          | 0/3000 [00:02<?, ?it/s]\n"
     ]
    },
    {
     "ename": "KeyboardInterrupt",
     "evalue": "",
     "output_type": "error",
     "traceback": [
      "\u001b[0;31m---------------------------------------------------------------------------\u001b[0m",
      "\u001b[0;31mKeyboardInterrupt\u001b[0m                         Traceback (most recent call last)",
      "Cell \u001b[0;32mIn[9], line 7\u001b[0m\n\u001b[1;32m      1\u001b[0m \u001b[38;5;66;03m# Before launching, add the criterions like in 2007 (see l13 above)\u001b[39;00m\n\u001b[1;32m      2\u001b[0m \n\u001b[1;32m      3\u001b[0m \u001b[38;5;66;03m#full_inference(data=data2, save_as=base_file_save+\"pres2022_covariate\", type_model = \"covariate1\", \u001b[39;00m\n\u001b[1;32m      4\u001b[0m \u001b[38;5;66;03m#               step2_lr=1e-3, step3_Nmax=1000, step3_Nchains=5, step3_parallel = True,\u001b[39;00m\n\u001b[1;32m      5\u001b[0m \u001b[38;5;66;03m#                     step3_type=\"IS\", try_gaussian=False)\u001b[39;00m\n\u001b[0;32m----> 7\u001b[0m \u001b[43mfull_inference\u001b[49m\u001b[43m(\u001b[49m\u001b[43mdata\u001b[49m\u001b[38;5;241;43m=\u001b[39;49m\u001b[43mdata2\u001b[49m\u001b[43m,\u001b[49m\u001b[43m \u001b[49m\u001b[43msave_as\u001b[49m\u001b[38;5;241;43m=\u001b[39;49m\u001b[43mbase_file_save\u001b[49m\u001b[38;5;241;43m+\u001b[39;49m\u001b[38;5;124;43m\"\u001b[39;49m\u001b[38;5;124;43mpres2022_full\u001b[39;49m\u001b[38;5;124;43m\"\u001b[39;49m\u001b[43m,\u001b[49m\u001b[43m \u001b[49m\u001b[43mtype_model\u001b[49m\u001b[43m \u001b[49m\u001b[38;5;241;43m=\u001b[39;49m\u001b[43m \u001b[49m\u001b[38;5;124;43m\"\u001b[39;49m\u001b[38;5;124;43mmargleft\u001b[39;49m\u001b[38;5;124;43m\"\u001b[39;49m\u001b[43m,\u001b[49m\u001b[43m \u001b[49m\n\u001b[1;32m      8\u001b[0m \u001b[43m               \u001b[49m\u001b[43mstep2_lr\u001b[49m\u001b[38;5;241;43m=\u001b[39;49m\u001b[38;5;241;43m1e-2\u001b[39;49m\u001b[43m,\u001b[49m\u001b[43m \u001b[49m\u001b[43mstep3_Nmax\u001b[49m\u001b[38;5;241;43m=\u001b[39;49m\u001b[38;5;241;43m1000\u001b[39;49m\u001b[43m,\u001b[49m\u001b[43m \u001b[49m\u001b[43mstep3_Nchains\u001b[49m\u001b[38;5;241;43m=\u001b[39;49m\u001b[38;5;241;43m5\u001b[39;49m\u001b[43m,\u001b[49m\u001b[43m \u001b[49m\u001b[43mstep3_parallel\u001b[49m\u001b[43m \u001b[49m\u001b[38;5;241;43m=\u001b[39;49m\u001b[43m \u001b[49m\u001b[38;5;28;43;01mTrue\u001b[39;49;00m\u001b[43m,\u001b[49m\n\u001b[1;32m      9\u001b[0m \u001b[43m                     \u001b[49m\u001b[43mstep3_type\u001b[49m\u001b[38;5;241;43m=\u001b[39;49m\u001b[38;5;124;43m\"\u001b[39;49m\u001b[38;5;124;43mIS\u001b[39;49m\u001b[38;5;124;43m\"\u001b[39;49m\u001b[43m,\u001b[49m\u001b[43m \u001b[49m\u001b[43mtry_gaussian\u001b[49m\u001b[38;5;241;43m=\u001b[39;49m\u001b[38;5;28;43;01mFalse\u001b[39;49;00m\u001b[43m)\u001b[49m\n",
      "File \u001b[0;32m~/Documents/Research/02. Ecological inference/saddlepoint_inference/src/functions.py:1160\u001b[0m, in \u001b[0;36mfull_inference\u001b[0;34m(data, save_as, type_model, step1_Nmax, step2_Nmax, step2_Nmax2, step2_lr, step3_Nmax, step3_Nchains, step3_type, step3_parallel, try_gaussian, save_full_posterior)\u001b[0m\n\u001b[1;32m   1157\u001b[0m funcs0 \u001b[38;5;241m=\u001b[39m define_functions(ecological_data, context_data, Nsim\u001b[38;5;241m=\u001b[39m\u001b[38;5;241m2\u001b[39m\u001b[38;5;241m*\u001b[39m\u001b[38;5;241m*\u001b[39m\u001b[38;5;241m4\u001b[39m, batchsize\u001b[38;5;241m=\u001b[39mbatchsize, qmc\u001b[38;5;241m=\u001b[39m\u001b[38;5;28;01mFalse\u001b[39;00m, pars_function\u001b[38;5;241m=\u001b[39mpars_function)\n\u001b[1;32m   1159\u001b[0m \u001b[38;5;28;01mif\u001b[39;00m step1_Nmax\u001b[38;5;241m>\u001b[39m\u001b[38;5;241m0\u001b[39m:\n\u001b[0;32m-> 1160\u001b[0m     step1 \u001b[38;5;241m=\u001b[39m \u001b[43mfind_MAP\u001b[49m\u001b[43m(\u001b[49m\u001b[43mfuncs0\u001b[49m\u001b[43m[\u001b[49m\u001b[38;5;124;43m\"\u001b[39;49m\u001b[38;5;124;43mdens_stochastic\u001b[39;49m\u001b[38;5;124;43m\"\u001b[39;49m\u001b[43m]\u001b[49m\u001b[43m,\u001b[49m\u001b[43m \u001b[49m\u001b[43mfuncs0\u001b[49m\u001b[43m[\u001b[49m\u001b[38;5;124;43m\"\u001b[39;49m\u001b[38;5;124;43msizes\u001b[39;49m\u001b[38;5;124;43m\"\u001b[39;49m\u001b[43m]\u001b[49m\u001b[43m,\u001b[49m\u001b[43m \u001b[49m\u001b[43moptax\u001b[49m\u001b[38;5;241;43m.\u001b[39;49m\u001b[43madam\u001b[49m\u001b[43m(\u001b[49m\u001b[43mlearning_rate\u001b[49m\u001b[38;5;241;43m=\u001b[39;49m\u001b[38;5;241;43m1e-1\u001b[39;49m\u001b[43m)\u001b[49m\u001b[43m,\u001b[49m\u001b[43m \u001b[49m\u001b[43mNmax\u001b[49m\u001b[38;5;241;43m=\u001b[39;49m\u001b[43mstep1_Nmax\u001b[49m\u001b[43m,\u001b[49m\u001b[43m \u001b[49m\u001b[43mNmax2\u001b[49m\u001b[43m \u001b[49m\u001b[38;5;241;43m=\u001b[39;49m\u001b[43m \u001b[49m\u001b[38;5;241;43m0\u001b[39;49m\u001b[43m)\u001b[49m\n\u001b[1;32m   1161\u001b[0m     mu \u001b[38;5;241m=\u001b[39m step1[\u001b[38;5;124m\"\u001b[39m\u001b[38;5;124mpars\u001b[39m\u001b[38;5;124m\"\u001b[39m][\u001b[38;5;241m-\u001b[39m\u001b[38;5;241m1\u001b[39m,]\n\u001b[1;32m   1162\u001b[0m     crit1 \u001b[38;5;241m=\u001b[39m jnp\u001b[38;5;241m.\u001b[39misnan(funcs0[\u001b[38;5;124m\"\u001b[39m\u001b[38;5;124mlogpost_diag\u001b[39m\u001b[38;5;124m\"\u001b[39m](mu, jax\u001b[38;5;241m.\u001b[39mrandom\u001b[38;5;241m.\u001b[39mkey(\u001b[38;5;241m3\u001b[39m))[\u001b[38;5;241m0\u001b[39m])\u001b[38;5;241m.\u001b[39mflatten()\n",
      "File \u001b[0;32m~/Documents/Research/02. Ecological inference/saddlepoint_inference/src/functions.py:842\u001b[0m, in \u001b[0;36mfind_MAP\u001b[0;34m(dens_function, sizes, solver, dens_function2, initial_guess, Nmax, Nmax2)\u001b[0m\n\u001b[1;32m    839\u001b[0m opt_state \u001b[38;5;241m=\u001b[39m solver\u001b[38;5;241m.\u001b[39minit(est_pars[\u001b[38;5;241m0\u001b[39m,])\n\u001b[1;32m    841\u001b[0m \u001b[38;5;28;01mfor\u001b[39;00m i \u001b[38;5;129;01min\u001b[39;00m tqdm(\u001b[38;5;28mrange\u001b[39m(Nmax)):\n\u001b[0;32m--> 842\u001b[0m     est_vals[i,], grad \u001b[38;5;241m=\u001b[39m \u001b[43mjax\u001b[49m\u001b[38;5;241;43m.\u001b[39;49m\u001b[43mvalue_and_grad\u001b[49m\u001b[43m(\u001b[49m\u001b[43mcompute_loss\u001b[49m\u001b[43m)\u001b[49m\u001b[43m(\u001b[49m\u001b[43mest_pars\u001b[49m\u001b[43m[\u001b[49m\u001b[43mi\u001b[49m\u001b[43m,\u001b[49m\u001b[43m]\u001b[49m\u001b[43m,\u001b[49m\u001b[43m \u001b[49m\u001b[43mjax\u001b[49m\u001b[38;5;241;43m.\u001b[39;49m\u001b[43mrandom\u001b[49m\u001b[38;5;241;43m.\u001b[39;49m\u001b[43mfold_in\u001b[49m\u001b[43m(\u001b[49m\u001b[43mkey\u001b[49m\u001b[43m,\u001b[49m\u001b[43mi\u001b[49m\u001b[43m)\u001b[49m\u001b[43m)\u001b[49m\n\u001b[1;32m    843\u001b[0m     \u001b[38;5;28;01mif\u001b[39;00m jnp\u001b[38;5;241m.\u001b[39misnan(grad\u001b[38;5;241m.\u001b[39msum()):\n\u001b[1;32m    844\u001b[0m         grad \u001b[38;5;241m=\u001b[39m jnp\u001b[38;5;241m.\u001b[39mzeros_like(grad)\n",
      "    \u001b[0;31m[... skipping hidden 1 frame]\u001b[0m\n",
      "File \u001b[0;32m/Library/Frameworks/Python.framework/Versions/3.11/lib/python3.11/site-packages/jax/_src/api.py:723\u001b[0m, in \u001b[0;36mvalue_and_grad.<locals>.value_and_grad_f\u001b[0;34m(*args, **kwargs)\u001b[0m\n\u001b[1;32m    721\u001b[0m _check_scalar(ans)\n\u001b[1;32m    722\u001b[0m tree_map(partial(_check_output_dtype_grad, holomorphic), ans)\n\u001b[0;32m--> 723\u001b[0m g \u001b[38;5;241m=\u001b[39m \u001b[43mvjp_py\u001b[49m\u001b[43m(\u001b[49m\u001b[43mlax_internal\u001b[49m\u001b[38;5;241;43m.\u001b[39;49m\u001b[43m_one\u001b[49m\u001b[43m(\u001b[49m\u001b[43mans\u001b[49m\u001b[43m)\u001b[49m\u001b[43m)\u001b[49m\n\u001b[1;32m    724\u001b[0m g \u001b[38;5;241m=\u001b[39m g[\u001b[38;5;241m0\u001b[39m] \u001b[38;5;28;01mif\u001b[39;00m \u001b[38;5;28misinstance\u001b[39m(argnums, \u001b[38;5;28mint\u001b[39m) \u001b[38;5;28;01melse\u001b[39;00m g\n\u001b[1;32m    725\u001b[0m \u001b[38;5;28;01mif\u001b[39;00m \u001b[38;5;129;01mnot\u001b[39;00m has_aux:\n",
      "File \u001b[0;32m/Library/Frameworks/Python.framework/Versions/3.11/lib/python3.11/site-packages/jax/_src/tree_util.py:485\u001b[0m, in \u001b[0;36m_HashableCallableShim.__call__\u001b[0;34m(self, *args, **kw)\u001b[0m\n\u001b[1;32m    484\u001b[0m \u001b[38;5;28;01mdef\u001b[39;00m \u001b[38;5;21m__call__\u001b[39m(\u001b[38;5;28mself\u001b[39m, \u001b[38;5;241m*\u001b[39margs, \u001b[38;5;241m*\u001b[39m\u001b[38;5;241m*\u001b[39mkw):\n\u001b[0;32m--> 485\u001b[0m   \u001b[38;5;28;01mreturn\u001b[39;00m \u001b[38;5;28;43mself\u001b[39;49m\u001b[38;5;241;43m.\u001b[39;49m\u001b[43mfun\u001b[49m\u001b[43m(\u001b[49m\u001b[38;5;241;43m*\u001b[39;49m\u001b[43margs\u001b[49m\u001b[43m,\u001b[49m\u001b[43m \u001b[49m\u001b[38;5;241;43m*\u001b[39;49m\u001b[38;5;241;43m*\u001b[39;49m\u001b[43mkw\u001b[49m\u001b[43m)\u001b[49m\n",
      "File \u001b[0;32m/Library/Frameworks/Python.framework/Versions/3.11/lib/python3.11/site-packages/jax/_src/api.py:2135\u001b[0m, in \u001b[0;36m_vjp_pullback_wrapper\u001b[0;34m(name, cotangent_dtypes, cotangent_shapes, io_tree, fun, *py_args_)\u001b[0m\n\u001b[1;32m   2130\u001b[0m   \u001b[38;5;28;01mif\u001b[39;00m np\u001b[38;5;241m.\u001b[39mshape(arg) \u001b[38;5;241m!=\u001b[39m ct_shape:\n\u001b[1;32m   2131\u001b[0m     \u001b[38;5;28;01mraise\u001b[39;00m \u001b[38;5;167;01mValueError\u001b[39;00m(\n\u001b[1;32m   2132\u001b[0m         \u001b[38;5;124mf\u001b[39m\u001b[38;5;124m\"\u001b[39m\u001b[38;5;124mShape of cotangent input to vjp pullback function \u001b[39m\u001b[38;5;132;01m{\u001b[39;00mnp\u001b[38;5;241m.\u001b[39mshape(arg)\u001b[38;5;132;01m}\u001b[39;00m\u001b[38;5;124m \u001b[39m\u001b[38;5;124m\"\u001b[39m\n\u001b[1;32m   2133\u001b[0m         \u001b[38;5;124m\"\u001b[39m\u001b[38;5;124mmust be the same as the shape of corresponding primal input \u001b[39m\u001b[38;5;124m\"\u001b[39m\n\u001b[1;32m   2134\u001b[0m         \u001b[38;5;124mf\u001b[39m\u001b[38;5;124m\"\u001b[39m\u001b[38;5;132;01m{\u001b[39;00mct_shape\u001b[38;5;132;01m}\u001b[39;00m\u001b[38;5;124m.\u001b[39m\u001b[38;5;124m\"\u001b[39m)\n\u001b[0;32m-> 2135\u001b[0m ans \u001b[38;5;241m=\u001b[39m \u001b[43mfun\u001b[49m\u001b[43m(\u001b[49m\u001b[38;5;241;43m*\u001b[39;49m\u001b[43margs\u001b[49m\u001b[43m)\u001b[49m\n\u001b[1;32m   2136\u001b[0m \u001b[38;5;28;01mreturn\u001b[39;00m tree_unflatten(out_tree, ans)\n",
      "File \u001b[0;32m/Library/Frameworks/Python.framework/Versions/3.11/lib/python3.11/site-packages/jax/_src/tree_util.py:485\u001b[0m, in \u001b[0;36m_HashableCallableShim.__call__\u001b[0;34m(self, *args, **kw)\u001b[0m\n\u001b[1;32m    484\u001b[0m \u001b[38;5;28;01mdef\u001b[39;00m \u001b[38;5;21m__call__\u001b[39m(\u001b[38;5;28mself\u001b[39m, \u001b[38;5;241m*\u001b[39margs, \u001b[38;5;241m*\u001b[39m\u001b[38;5;241m*\u001b[39mkw):\n\u001b[0;32m--> 485\u001b[0m   \u001b[38;5;28;01mreturn\u001b[39;00m \u001b[38;5;28;43mself\u001b[39;49m\u001b[38;5;241;43m.\u001b[39;49m\u001b[43mfun\u001b[49m\u001b[43m(\u001b[49m\u001b[38;5;241;43m*\u001b[39;49m\u001b[43margs\u001b[49m\u001b[43m,\u001b[49m\u001b[43m \u001b[49m\u001b[38;5;241;43m*\u001b[39;49m\u001b[38;5;241;43m*\u001b[39;49m\u001b[43mkw\u001b[49m\u001b[43m)\u001b[49m\n",
      "File \u001b[0;32m/Library/Frameworks/Python.framework/Versions/3.11/lib/python3.11/site-packages/jax/_src/interpreters/ad.py:150\u001b[0m, in \u001b[0;36mvjp.<locals>.unbound_vjp\u001b[0;34m(pvals, jaxpr, consts, *cts)\u001b[0m\n\u001b[1;32m    148\u001b[0m cts \u001b[38;5;241m=\u001b[39m \u001b[38;5;28mtuple\u001b[39m(ct \u001b[38;5;28;01mfor\u001b[39;00m ct, pval \u001b[38;5;129;01min\u001b[39;00m \u001b[38;5;28mzip\u001b[39m(cts, pvals) \u001b[38;5;28;01mif\u001b[39;00m \u001b[38;5;129;01mnot\u001b[39;00m pval\u001b[38;5;241m.\u001b[39mis_known())\n\u001b[1;32m    149\u001b[0m dummy_args \u001b[38;5;241m=\u001b[39m [UndefinedPrimal(v\u001b[38;5;241m.\u001b[39maval) \u001b[38;5;28;01mfor\u001b[39;00m v \u001b[38;5;129;01min\u001b[39;00m jaxpr\u001b[38;5;241m.\u001b[39minvars]\n\u001b[0;32m--> 150\u001b[0m arg_cts \u001b[38;5;241m=\u001b[39m \u001b[43mbackward_pass\u001b[49m\u001b[43m(\u001b[49m\u001b[43mjaxpr\u001b[49m\u001b[43m,\u001b[49m\u001b[43m \u001b[49m\u001b[38;5;28;43;01mTrue\u001b[39;49;00m\u001b[43m,\u001b[49m\u001b[43m \u001b[49m\u001b[43mconsts\u001b[49m\u001b[43m,\u001b[49m\u001b[43m \u001b[49m\u001b[43mdummy_args\u001b[49m\u001b[43m,\u001b[49m\u001b[43m \u001b[49m\u001b[43mcts\u001b[49m\u001b[43m)\u001b[49m\n\u001b[1;32m    151\u001b[0m \u001b[38;5;28;01mreturn\u001b[39;00m \u001b[38;5;28mmap\u001b[39m(instantiate_zeros, arg_cts)\n",
      "File \u001b[0;32m/Library/Frameworks/Python.framework/Versions/3.11/lib/python3.11/site-packages/jax/_src/interpreters/ad.py:249\u001b[0m, in \u001b[0;36mbackward_pass\u001b[0;34m(jaxpr, transform_stack, consts, primals_in, cotangents_in)\u001b[0m\n\u001b[1;32m    246\u001b[0m   cts_out \u001b[38;5;241m=\u001b[39m get_primitive_transpose(eqn\u001b[38;5;241m.\u001b[39mprimitive)(\n\u001b[1;32m    247\u001b[0m       params, call_jaxpr, invals, cts_in, cts_in_avals)\n\u001b[1;32m    248\u001b[0m \u001b[38;5;28;01melif\u001b[39;00m eqn\u001b[38;5;241m.\u001b[39mprimitive \u001b[38;5;129;01min\u001b[39;00m reducing_transposes:\n\u001b[0;32m--> 249\u001b[0m   cts_out \u001b[38;5;241m=\u001b[39m \u001b[43mreducing_transposes\u001b[49m\u001b[43m[\u001b[49m\u001b[43meqn\u001b[49m\u001b[38;5;241;43m.\u001b[39;49m\u001b[43mprimitive\u001b[49m\u001b[43m]\u001b[49m\u001b[43m(\u001b[49m\n\u001b[1;32m    250\u001b[0m \u001b[43m      \u001b[49m\u001b[43mcts_in\u001b[49m\u001b[43m,\u001b[49m\u001b[43m \u001b[49m\u001b[38;5;241;43m*\u001b[39;49m\u001b[43minvals\u001b[49m\u001b[43m,\u001b[49m\u001b[43m \u001b[49m\u001b[38;5;241;43m*\u001b[39;49m\u001b[38;5;241;43m*\u001b[39;49m\u001b[43meqn\u001b[49m\u001b[38;5;241;43m.\u001b[39;49m\u001b[43mparams\u001b[49m\u001b[43m)\u001b[49m\n\u001b[1;32m    251\u001b[0m \u001b[38;5;28;01melse\u001b[39;00m:\n\u001b[1;32m    252\u001b[0m   cts_out \u001b[38;5;241m=\u001b[39m get_primitive_transpose(eqn\u001b[38;5;241m.\u001b[39mprimitive)(\n\u001b[1;32m    253\u001b[0m       cts_in, \u001b[38;5;241m*\u001b[39minvals, \u001b[38;5;241m*\u001b[39m\u001b[38;5;241m*\u001b[39meqn\u001b[38;5;241m.\u001b[39mparams)\n",
      "File \u001b[0;32m/Library/Frameworks/Python.framework/Versions/3.11/lib/python3.11/site-packages/jax/_src/pjit.py:1980\u001b[0m, in \u001b[0;36m_pjit_transpose\u001b[0;34m(cts_in, jaxpr, in_shardings, out_shardings, resource_env, donated_invars, name, keep_unused, inline, *primals_in)\u001b[0m\n\u001b[1;32m   1977\u001b[0m   transpose_in_shardings \u001b[38;5;241m=\u001b[39m (UNSPECIFIED,) \u001b[38;5;241m*\u001b[39m \u001b[38;5;28mlen\u001b[39m(attrs_tracked) \u001b[38;5;241m+\u001b[39m transpose_in_shardings\n\u001b[1;32m   1978\u001b[0m   transpose_out_shardings \u001b[38;5;241m=\u001b[39m (UNSPECIFIED,) \u001b[38;5;241m*\u001b[39m \u001b[38;5;28mlen\u001b[39m(attrs_tracked) \u001b[38;5;241m+\u001b[39m transpose_out_shardings\n\u001b[0;32m-> 1980\u001b[0m nz_cts_out \u001b[38;5;241m=\u001b[39m \u001b[43mpjit_p\u001b[49m\u001b[38;5;241;43m.\u001b[39;49m\u001b[43mbind\u001b[49m\u001b[43m(\u001b[49m\n\u001b[1;32m   1981\u001b[0m \u001b[43m    \u001b[49m\u001b[38;5;241;43m*\u001b[39;49m\u001b[43mprimals_and_nz_cts_in\u001b[49m\u001b[43m,\u001b[49m\n\u001b[1;32m   1982\u001b[0m \u001b[43m    \u001b[49m\u001b[43mjaxpr\u001b[49m\u001b[38;5;241;43m=\u001b[39;49m\u001b[43mtranspose_jaxpr\u001b[49m\u001b[43m,\u001b[49m\n\u001b[1;32m   1983\u001b[0m \u001b[43m    \u001b[49m\u001b[43min_shardings\u001b[49m\u001b[38;5;241;43m=\u001b[39;49m\u001b[43mtranspose_in_shardings\u001b[49m\u001b[43m,\u001b[49m\n\u001b[1;32m   1984\u001b[0m \u001b[43m    \u001b[49m\u001b[43mout_shardings\u001b[49m\u001b[38;5;241;43m=\u001b[39;49m\u001b[43mtranspose_out_shardings\u001b[49m\u001b[43m,\u001b[49m\n\u001b[1;32m   1985\u001b[0m \u001b[43m    \u001b[49m\u001b[43mresource_env\u001b[49m\u001b[38;5;241;43m=\u001b[39;49m\u001b[43mresource_env\u001b[49m\u001b[43m,\u001b[49m\n\u001b[1;32m   1986\u001b[0m \u001b[43m    \u001b[49m\u001b[43mdonated_invars\u001b[49m\u001b[38;5;241;43m=\u001b[39;49m\u001b[43m(\u001b[49m\u001b[38;5;28;43;01mFalse\u001b[39;49;00m\u001b[43m,\u001b[49m\u001b[43m)\u001b[49m\u001b[43m \u001b[49m\u001b[38;5;241;43m*\u001b[39;49m\u001b[43m \u001b[49m\u001b[38;5;28;43mlen\u001b[39;49m\u001b[43m(\u001b[49m\u001b[43mprimals_and_nz_cts_in\u001b[49m\u001b[43m)\u001b[49m\u001b[43m,\u001b[49m\n\u001b[1;32m   1987\u001b[0m \u001b[43m    \u001b[49m\u001b[43mname\u001b[49m\u001b[38;5;241;43m=\u001b[39;49m\u001b[43mname\u001b[49m\u001b[43m,\u001b[49m\n\u001b[1;32m   1988\u001b[0m \u001b[43m    \u001b[49m\u001b[43mkeep_unused\u001b[49m\u001b[38;5;241;43m=\u001b[39;49m\u001b[43mkeep_unused\u001b[49m\u001b[43m,\u001b[49m\n\u001b[1;32m   1989\u001b[0m \u001b[43m    \u001b[49m\u001b[43minline\u001b[49m\u001b[38;5;241;43m=\u001b[39;49m\u001b[43minline\u001b[49m\u001b[43m)\u001b[49m\n\u001b[1;32m   1990\u001b[0m \u001b[38;5;28;01mif\u001b[39;00m attrs_tracked:\n\u001b[1;32m   1991\u001b[0m   final_states, nz_cts_out \u001b[38;5;241m=\u001b[39m split_list(nz_cts_out, [\u001b[38;5;28mlen\u001b[39m(init_states)])\n",
      "File \u001b[0;32m/Library/Frameworks/Python.framework/Versions/3.11/lib/python3.11/site-packages/jax/_src/core.py:2788\u001b[0m, in \u001b[0;36mAxisPrimitive.bind\u001b[0;34m(self, *args, **params)\u001b[0m\n\u001b[1;32m   2784\u001b[0m axis_main \u001b[38;5;241m=\u001b[39m \u001b[38;5;28mmax\u001b[39m((axis_frame(a)\u001b[38;5;241m.\u001b[39mmain_trace \u001b[38;5;28;01mfor\u001b[39;00m a \u001b[38;5;129;01min\u001b[39;00m used_axis_names(\u001b[38;5;28mself\u001b[39m, params)),\n\u001b[1;32m   2785\u001b[0m                 default\u001b[38;5;241m=\u001b[39m\u001b[38;5;28;01mNone\u001b[39;00m, key\u001b[38;5;241m=\u001b[39m\u001b[38;5;28;01mlambda\u001b[39;00m t: \u001b[38;5;28mgetattr\u001b[39m(t, \u001b[38;5;124m'\u001b[39m\u001b[38;5;124mlevel\u001b[39m\u001b[38;5;124m'\u001b[39m, \u001b[38;5;241m-\u001b[39m\u001b[38;5;241m1\u001b[39m))\n\u001b[1;32m   2786\u001b[0m top_trace \u001b[38;5;241m=\u001b[39m (top_trace \u001b[38;5;28;01mif\u001b[39;00m \u001b[38;5;129;01mnot\u001b[39;00m axis_main \u001b[38;5;129;01mor\u001b[39;00m axis_main\u001b[38;5;241m.\u001b[39mlevel \u001b[38;5;241m<\u001b[39m top_trace\u001b[38;5;241m.\u001b[39mlevel\n\u001b[1;32m   2787\u001b[0m              \u001b[38;5;28;01melse\u001b[39;00m axis_main\u001b[38;5;241m.\u001b[39mwith_cur_sublevel())\n\u001b[0;32m-> 2788\u001b[0m \u001b[38;5;28;01mreturn\u001b[39;00m \u001b[38;5;28;43mself\u001b[39;49m\u001b[38;5;241;43m.\u001b[39;49m\u001b[43mbind_with_trace\u001b[49m\u001b[43m(\u001b[49m\u001b[43mtop_trace\u001b[49m\u001b[43m,\u001b[49m\u001b[43m \u001b[49m\u001b[43margs\u001b[49m\u001b[43m,\u001b[49m\u001b[43m \u001b[49m\u001b[43mparams\u001b[49m\u001b[43m)\u001b[49m\n",
      "File \u001b[0;32m/Library/Frameworks/Python.framework/Versions/3.11/lib/python3.11/site-packages/jax/_src/core.py:425\u001b[0m, in \u001b[0;36mPrimitive.bind_with_trace\u001b[0;34m(self, trace, args, params)\u001b[0m\n\u001b[1;32m    424\u001b[0m \u001b[38;5;28;01mdef\u001b[39;00m \u001b[38;5;21mbind_with_trace\u001b[39m(\u001b[38;5;28mself\u001b[39m, trace, args, params):\n\u001b[0;32m--> 425\u001b[0m   out \u001b[38;5;241m=\u001b[39m \u001b[43mtrace\u001b[49m\u001b[38;5;241;43m.\u001b[39;49m\u001b[43mprocess_primitive\u001b[49m\u001b[43m(\u001b[49m\u001b[38;5;28;43mself\u001b[39;49m\u001b[43m,\u001b[49m\u001b[43m \u001b[49m\u001b[38;5;28;43mmap\u001b[39;49m\u001b[43m(\u001b[49m\u001b[43mtrace\u001b[49m\u001b[38;5;241;43m.\u001b[39;49m\u001b[43mfull_raise\u001b[49m\u001b[43m,\u001b[49m\u001b[43m \u001b[49m\u001b[43margs\u001b[49m\u001b[43m)\u001b[49m\u001b[43m,\u001b[49m\u001b[43m \u001b[49m\u001b[43mparams\u001b[49m\u001b[43m)\u001b[49m\n\u001b[1;32m    426\u001b[0m   \u001b[38;5;28;01mreturn\u001b[39;00m \u001b[38;5;28mmap\u001b[39m(full_lower, out) \u001b[38;5;28;01mif\u001b[39;00m \u001b[38;5;28mself\u001b[39m\u001b[38;5;241m.\u001b[39mmultiple_results \u001b[38;5;28;01melse\u001b[39;00m full_lower(out)\n",
      "File \u001b[0;32m/Library/Frameworks/Python.framework/Versions/3.11/lib/python3.11/site-packages/jax/_src/core.py:913\u001b[0m, in \u001b[0;36mEvalTrace.process_primitive\u001b[0;34m(self, primitive, tracers, params)\u001b[0m\n\u001b[1;32m    912\u001b[0m \u001b[38;5;28;01mdef\u001b[39;00m \u001b[38;5;21mprocess_primitive\u001b[39m(\u001b[38;5;28mself\u001b[39m, primitive, tracers, params):\n\u001b[0;32m--> 913\u001b[0m   \u001b[38;5;28;01mreturn\u001b[39;00m \u001b[43mprimitive\u001b[49m\u001b[38;5;241;43m.\u001b[39;49m\u001b[43mimpl\u001b[49m\u001b[43m(\u001b[49m\u001b[38;5;241;43m*\u001b[39;49m\u001b[43mtracers\u001b[49m\u001b[43m,\u001b[49m\u001b[43m \u001b[49m\u001b[38;5;241;43m*\u001b[39;49m\u001b[38;5;241;43m*\u001b[39;49m\u001b[43mparams\u001b[49m\u001b[43m)\u001b[49m\n",
      "File \u001b[0;32m/Library/Frameworks/Python.framework/Versions/3.11/lib/python3.11/site-packages/jax/_src/pjit.py:1488\u001b[0m, in \u001b[0;36m_pjit_call_impl\u001b[0;34m(jaxpr, in_shardings, out_shardings, resource_env, donated_invars, name, keep_unused, inline, *args)\u001b[0m\n\u001b[1;32m   1485\u001b[0m has_explicit_sharding \u001b[38;5;241m=\u001b[39m _pjit_explicit_sharding(\n\u001b[1;32m   1486\u001b[0m     in_shardings, out_shardings, \u001b[38;5;28;01mNone\u001b[39;00m, \u001b[38;5;28;01mNone\u001b[39;00m)\n\u001b[1;32m   1487\u001b[0m \u001b[38;5;28;01mif\u001b[39;00m xla_extension_version \u001b[38;5;241m>\u001b[39m\u001b[38;5;241m=\u001b[39m \u001b[38;5;241m226\u001b[39m:\n\u001b[0;32m-> 1488\u001b[0m   \u001b[38;5;28;01mreturn\u001b[39;00m \u001b[43mxc\u001b[49m\u001b[38;5;241;43m.\u001b[39;49m\u001b[43m_xla\u001b[49m\u001b[38;5;241;43m.\u001b[39;49m\u001b[43mpjit\u001b[49m\u001b[43m(\u001b[49m\n\u001b[1;32m   1489\u001b[0m \u001b[43m      \u001b[49m\u001b[43mname\u001b[49m\u001b[43m,\u001b[49m\u001b[43m \u001b[49m\u001b[43mf\u001b[49m\u001b[43m,\u001b[49m\u001b[43m \u001b[49m\u001b[43mcall_impl_cache_miss\u001b[49m\u001b[43m,\u001b[49m\u001b[43m \u001b[49m\u001b[43m[\u001b[49m\u001b[43m]\u001b[49m\u001b[43m,\u001b[49m\u001b[43m \u001b[49m\u001b[43m[\u001b[49m\u001b[43m]\u001b[49m\u001b[43m,\u001b[49m\u001b[43m \u001b[49m\u001b[43mdonated_argnums\u001b[49m\u001b[43m,\u001b[49m\n\u001b[1;32m   1490\u001b[0m \u001b[43m      \u001b[49m\u001b[43mtree_util\u001b[49m\u001b[38;5;241;43m.\u001b[39;49m\u001b[43mdispatch_registry\u001b[49m\u001b[43m,\u001b[49m\n\u001b[1;32m   1491\u001b[0m \u001b[43m      \u001b[49m\u001b[43mpxla\u001b[49m\u001b[38;5;241;43m.\u001b[39;49m\u001b[43mshard_arg\u001b[49m\u001b[43m \u001b[49m\u001b[38;5;28;43;01mif\u001b[39;49;00m\u001b[43m \u001b[49m\u001b[43mxla_extension_version\u001b[49m\u001b[43m \u001b[49m\u001b[38;5;241;43m>\u001b[39;49m\u001b[38;5;241;43m=\u001b[39;49m\u001b[43m \u001b[49m\u001b[38;5;241;43m229\u001b[39;49m\u001b[43m \u001b[49m\u001b[38;5;28;43;01melse\u001b[39;49;00m\u001b[43m \u001b[49m\u001b[43mpxla\u001b[49m\u001b[38;5;241;43m.\u001b[39;49m\u001b[43mtemp_shard_arg\u001b[49m\u001b[43m,\u001b[49m\u001b[43m  \u001b[49m\u001b[38;5;66;43;03m# type: ignore\u001b[39;49;00m\n\u001b[1;32m   1492\u001b[0m \u001b[43m      \u001b[49m\u001b[43m_get_cpp_global_cache\u001b[49m\u001b[43m(\u001b[49m\u001b[43mhas_explicit_sharding\u001b[49m\u001b[43m)\u001b[49m\u001b[43m)\u001b[49m\u001b[43m(\u001b[49m\u001b[38;5;241;43m*\u001b[39;49m\u001b[43margs\u001b[49m\u001b[43m)\u001b[49m\n\u001b[1;32m   1493\u001b[0m \u001b[38;5;28;01melse\u001b[39;00m:\n\u001b[1;32m   1494\u001b[0m   \u001b[38;5;28;01mreturn\u001b[39;00m xc\u001b[38;5;241m.\u001b[39m_xla\u001b[38;5;241m.\u001b[39mpjit(name, f, call_impl_cache_miss, [], [], donated_argnums,  \u001b[38;5;66;03m# type: ignore\u001b[39;00m\n\u001b[1;32m   1495\u001b[0m                       tree_util\u001b[38;5;241m.\u001b[39mdispatch_registry,\n\u001b[1;32m   1496\u001b[0m                       _get_cpp_global_cache(has_explicit_sharding))(\u001b[38;5;241m*\u001b[39margs)\n",
      "File \u001b[0;32m/Library/Frameworks/Python.framework/Versions/3.11/lib/python3.11/site-packages/jax/_src/pjit.py:1471\u001b[0m, in \u001b[0;36m_pjit_call_impl.<locals>.call_impl_cache_miss\u001b[0;34m(*args_, **kwargs_)\u001b[0m\n\u001b[1;32m   1470\u001b[0m \u001b[38;5;28;01mdef\u001b[39;00m \u001b[38;5;21mcall_impl_cache_miss\u001b[39m(\u001b[38;5;241m*\u001b[39margs_, \u001b[38;5;241m*\u001b[39m\u001b[38;5;241m*\u001b[39mkwargs_):\n\u001b[0;32m-> 1471\u001b[0m   out_flat, compiled \u001b[38;5;241m=\u001b[39m \u001b[43m_pjit_call_impl_python\u001b[49m\u001b[43m(\u001b[49m\n\u001b[1;32m   1472\u001b[0m \u001b[43m      \u001b[49m\u001b[38;5;241;43m*\u001b[39;49m\u001b[43margs\u001b[49m\u001b[43m,\u001b[49m\u001b[43m \u001b[49m\u001b[43mjaxpr\u001b[49m\u001b[38;5;241;43m=\u001b[39;49m\u001b[43mjaxpr\u001b[49m\u001b[43m,\u001b[49m\u001b[43m \u001b[49m\u001b[43min_shardings\u001b[49m\u001b[38;5;241;43m=\u001b[39;49m\u001b[43min_shardings\u001b[49m\u001b[43m,\u001b[49m\n\u001b[1;32m   1473\u001b[0m \u001b[43m      \u001b[49m\u001b[43mout_shardings\u001b[49m\u001b[38;5;241;43m=\u001b[39;49m\u001b[43mout_shardings\u001b[49m\u001b[43m,\u001b[49m\u001b[43m \u001b[49m\u001b[43mresource_env\u001b[49m\u001b[38;5;241;43m=\u001b[39;49m\u001b[43mresource_env\u001b[49m\u001b[43m,\u001b[49m\n\u001b[1;32m   1474\u001b[0m \u001b[43m      \u001b[49m\u001b[43mdonated_invars\u001b[49m\u001b[38;5;241;43m=\u001b[39;49m\u001b[43mdonated_invars\u001b[49m\u001b[43m,\u001b[49m\u001b[43m \u001b[49m\u001b[43mname\u001b[49m\u001b[38;5;241;43m=\u001b[39;49m\u001b[43mname\u001b[49m\u001b[43m,\u001b[49m\u001b[43m \u001b[49m\u001b[43mkeep_unused\u001b[49m\u001b[38;5;241;43m=\u001b[39;49m\u001b[43mkeep_unused\u001b[49m\u001b[43m,\u001b[49m\n\u001b[1;32m   1475\u001b[0m \u001b[43m      \u001b[49m\u001b[43minline\u001b[49m\u001b[38;5;241;43m=\u001b[39;49m\u001b[43minline\u001b[49m\u001b[43m)\u001b[49m\n\u001b[1;32m   1476\u001b[0m   fastpath_data \u001b[38;5;241m=\u001b[39m _get_fastpath_data(\n\u001b[1;32m   1477\u001b[0m       compiled, tree_structure(out_flat), args, out_flat, [], jaxpr\u001b[38;5;241m.\u001b[39meffects,\n\u001b[1;32m   1478\u001b[0m       \u001b[38;5;28;01mNone\u001b[39;00m)\n\u001b[1;32m   1479\u001b[0m   \u001b[38;5;28;01mreturn\u001b[39;00m out_flat, fastpath_data\n",
      "File \u001b[0;32m/Library/Frameworks/Python.framework/Versions/3.11/lib/python3.11/site-packages/jax/_src/pjit.py:1406\u001b[0m, in \u001b[0;36m_pjit_call_impl_python\u001b[0;34m(jaxpr, in_shardings, out_shardings, resource_env, donated_invars, name, keep_unused, inline, *args)\u001b[0m\n\u001b[1;32m   1397\u001b[0m \u001b[38;5;28;01mglobal\u001b[39;00m _most_recent_pjit_call_executable\n\u001b[1;32m   1399\u001b[0m in_shardings \u001b[38;5;241m=\u001b[39m _resolve_in_shardings(\n\u001b[1;32m   1400\u001b[0m     args, in_shardings, out_shardings,\n\u001b[1;32m   1401\u001b[0m     resource_env\u001b[38;5;241m.\u001b[39mphysical_mesh \u001b[38;5;28;01mif\u001b[39;00m resource_env \u001b[38;5;129;01mis\u001b[39;00m \u001b[38;5;129;01mnot\u001b[39;00m \u001b[38;5;28;01mNone\u001b[39;00m \u001b[38;5;28;01melse\u001b[39;00m \u001b[38;5;28;01mNone\u001b[39;00m)\n\u001b[1;32m   1403\u001b[0m compiled \u001b[38;5;241m=\u001b[39m \u001b[43m_pjit_lower\u001b[49m\u001b[43m(\u001b[49m\n\u001b[1;32m   1404\u001b[0m \u001b[43m    \u001b[49m\u001b[43mjaxpr\u001b[49m\u001b[43m,\u001b[49m\u001b[43m \u001b[49m\u001b[43min_shardings\u001b[49m\u001b[43m,\u001b[49m\u001b[43m \u001b[49m\u001b[43mout_shardings\u001b[49m\u001b[43m,\u001b[49m\u001b[43m \u001b[49m\u001b[43mresource_env\u001b[49m\u001b[43m,\u001b[49m\n\u001b[1;32m   1405\u001b[0m \u001b[43m    \u001b[49m\u001b[43mdonated_invars\u001b[49m\u001b[43m,\u001b[49m\u001b[43m \u001b[49m\u001b[43mname\u001b[49m\u001b[43m,\u001b[49m\u001b[43m \u001b[49m\u001b[43mkeep_unused\u001b[49m\u001b[43m,\u001b[49m\u001b[43m \u001b[49m\u001b[43minline\u001b[49m\u001b[43m,\u001b[49m\n\u001b[0;32m-> 1406\u001b[0m \u001b[43m    \u001b[49m\u001b[43mlowering_parameters\u001b[49m\u001b[38;5;241;43m=\u001b[39;49m\u001b[43mmlir\u001b[49m\u001b[38;5;241;43m.\u001b[39;49m\u001b[43mLoweringParameters\u001b[49m\u001b[43m(\u001b[49m\u001b[43m)\u001b[49m\u001b[43m)\u001b[49m\u001b[38;5;241;43m.\u001b[39;49m\u001b[43mcompile\u001b[49m\u001b[43m(\u001b[49m\u001b[43m)\u001b[49m\n\u001b[1;32m   1407\u001b[0m _most_recent_pjit_call_executable\u001b[38;5;241m.\u001b[39mweak_key_dict[jaxpr] \u001b[38;5;241m=\u001b[39m compiled\n\u001b[1;32m   1408\u001b[0m \u001b[38;5;66;03m# This check is expensive so only do it if enable_checks is on.\u001b[39;00m\n",
      "File \u001b[0;32m/Library/Frameworks/Python.framework/Versions/3.11/lib/python3.11/site-packages/jax/_src/interpreters/pxla.py:2369\u001b[0m, in \u001b[0;36mMeshComputation.compile\u001b[0;34m(self, compiler_options)\u001b[0m\n\u001b[1;32m   2367\u001b[0m \u001b[38;5;28;01mdef\u001b[39;00m \u001b[38;5;21mcompile\u001b[39m(\u001b[38;5;28mself\u001b[39m, compiler_options\u001b[38;5;241m=\u001b[39m\u001b[38;5;28;01mNone\u001b[39;00m) \u001b[38;5;241m-\u001b[39m\u001b[38;5;241m>\u001b[39m MeshExecutable:\n\u001b[1;32m   2368\u001b[0m   \u001b[38;5;28;01mif\u001b[39;00m \u001b[38;5;28mself\u001b[39m\u001b[38;5;241m.\u001b[39m_executable \u001b[38;5;129;01mis\u001b[39;00m \u001b[38;5;28;01mNone\u001b[39;00m \u001b[38;5;129;01mor\u001b[39;00m compiler_options \u001b[38;5;129;01mis\u001b[39;00m \u001b[38;5;129;01mnot\u001b[39;00m \u001b[38;5;28;01mNone\u001b[39;00m:\n\u001b[0;32m-> 2369\u001b[0m     executable \u001b[38;5;241m=\u001b[39m \u001b[43mUnloadedMeshExecutable\u001b[49m\u001b[38;5;241;43m.\u001b[39;49m\u001b[43mfrom_hlo\u001b[49m\u001b[43m(\u001b[49m\n\u001b[1;32m   2370\u001b[0m \u001b[43m        \u001b[49m\u001b[38;5;28;43mself\u001b[39;49m\u001b[38;5;241;43m.\u001b[39;49m\u001b[43m_name\u001b[49m\u001b[43m,\u001b[49m\u001b[43m \u001b[49m\u001b[38;5;28;43mself\u001b[39;49m\u001b[38;5;241;43m.\u001b[39;49m\u001b[43m_hlo\u001b[49m\u001b[43m,\u001b[49m\u001b[43m \u001b[49m\u001b[38;5;241;43m*\u001b[39;49m\u001b[38;5;241;43m*\u001b[39;49m\u001b[38;5;28;43mself\u001b[39;49m\u001b[38;5;241;43m.\u001b[39;49m\u001b[43mcompile_args\u001b[49m\u001b[43m,\u001b[49m\n\u001b[1;32m   2371\u001b[0m \u001b[43m        \u001b[49m\u001b[43mcompiler_options\u001b[49m\u001b[38;5;241;43m=\u001b[39;49m\u001b[43mcompiler_options\u001b[49m\u001b[43m)\u001b[49m\n\u001b[1;32m   2372\u001b[0m     \u001b[38;5;28;01mif\u001b[39;00m compiler_options \u001b[38;5;129;01mis\u001b[39;00m \u001b[38;5;28;01mNone\u001b[39;00m:\n\u001b[1;32m   2373\u001b[0m       \u001b[38;5;28mself\u001b[39m\u001b[38;5;241m.\u001b[39m_executable \u001b[38;5;241m=\u001b[39m executable\n",
      "File \u001b[0;32m/Library/Frameworks/Python.framework/Versions/3.11/lib/python3.11/site-packages/jax/_src/interpreters/pxla.py:2908\u001b[0m, in \u001b[0;36mUnloadedMeshExecutable.from_hlo\u001b[0;34m(***failed resolving arguments***)\u001b[0m\n\u001b[1;32m   2905\u001b[0m       mesh \u001b[38;5;241m=\u001b[39m i\u001b[38;5;241m.\u001b[39mmesh  \u001b[38;5;66;03m# type: ignore\u001b[39;00m\n\u001b[1;32m   2906\u001b[0m       \u001b[38;5;28;01mbreak\u001b[39;00m\n\u001b[0;32m-> 2908\u001b[0m xla_executable, compile_options \u001b[38;5;241m=\u001b[39m \u001b[43m_cached_compilation\u001b[49m\u001b[43m(\u001b[49m\n\u001b[1;32m   2909\u001b[0m \u001b[43m    \u001b[49m\u001b[43mhlo\u001b[49m\u001b[43m,\u001b[49m\u001b[43m \u001b[49m\u001b[43mname\u001b[49m\u001b[43m,\u001b[49m\u001b[43m \u001b[49m\u001b[43mmesh\u001b[49m\u001b[43m,\u001b[49m\u001b[43m \u001b[49m\u001b[43mspmd_lowering\u001b[49m\u001b[43m,\u001b[49m\n\u001b[1;32m   2910\u001b[0m \u001b[43m    \u001b[49m\u001b[43mtuple_args\u001b[49m\u001b[43m,\u001b[49m\u001b[43m \u001b[49m\u001b[43mauto_spmd_lowering\u001b[49m\u001b[43m,\u001b[49m\u001b[43m \u001b[49m\u001b[43mallow_prop_to_inputs\u001b[49m\u001b[43m,\u001b[49m\n\u001b[1;32m   2911\u001b[0m \u001b[43m    \u001b[49m\u001b[43mallow_prop_to_outputs\u001b[49m\u001b[43m,\u001b[49m\u001b[43m \u001b[49m\u001b[38;5;28;43mtuple\u001b[39;49m\u001b[43m(\u001b[49m\u001b[43mhost_callbacks\u001b[49m\u001b[43m)\u001b[49m\u001b[43m,\u001b[49m\u001b[43m \u001b[49m\u001b[43mbackend\u001b[49m\u001b[43m,\u001b[49m\u001b[43m \u001b[49m\u001b[43mda\u001b[49m\u001b[43m,\u001b[49m\u001b[43m \u001b[49m\u001b[43mpmap_nreps\u001b[49m\u001b[43m,\u001b[49m\n\u001b[1;32m   2912\u001b[0m \u001b[43m    \u001b[49m\u001b[43mcompiler_options_keys\u001b[49m\u001b[43m,\u001b[49m\u001b[43m \u001b[49m\u001b[43mcompiler_options_values\u001b[49m\u001b[43m)\u001b[49m\n\u001b[1;32m   2914\u001b[0m \u001b[38;5;28;01mif\u001b[39;00m \u001b[38;5;28mhasattr\u001b[39m(backend, \u001b[38;5;124m\"\u001b[39m\u001b[38;5;124mcompile_replicated\u001b[39m\u001b[38;5;124m\"\u001b[39m):\n\u001b[1;32m   2915\u001b[0m   semantics_in_shardings \u001b[38;5;241m=\u001b[39m SemanticallyEqualShardings(\n\u001b[1;32m   2916\u001b[0m       in_shardings, global_in_avals)  \u001b[38;5;66;03m# type: ignore\u001b[39;00m\n",
      "File \u001b[0;32m/Library/Frameworks/Python.framework/Versions/3.11/lib/python3.11/site-packages/jax/_src/interpreters/pxla.py:2718\u001b[0m, in \u001b[0;36m_cached_compilation\u001b[0;34m(computation, name, mesh, spmd_lowering, tuple_args, auto_spmd_lowering, allow_prop_to_inputs, allow_prop_to_outputs, host_callbacks, backend, da, pmap_nreps, compiler_options_keys, compiler_options_values)\u001b[0m\n\u001b[1;32m   2713\u001b[0m   \u001b[38;5;28;01mreturn\u001b[39;00m \u001b[38;5;28;01mNone\u001b[39;00m, compile_options\n\u001b[1;32m   2715\u001b[0m \u001b[38;5;28;01mwith\u001b[39;00m dispatch\u001b[38;5;241m.\u001b[39mlog_elapsed_time(\n\u001b[1;32m   2716\u001b[0m     \u001b[38;5;124m\"\u001b[39m\u001b[38;5;124mFinished XLA compilation of \u001b[39m\u001b[38;5;132;01m{fun_name}\u001b[39;00m\u001b[38;5;124m in \u001b[39m\u001b[38;5;132;01m{elapsed_time}\u001b[39;00m\u001b[38;5;124m sec\u001b[39m\u001b[38;5;124m\"\u001b[39m,\n\u001b[1;32m   2717\u001b[0m     fun_name\u001b[38;5;241m=\u001b[39mname, event\u001b[38;5;241m=\u001b[39mdispatch\u001b[38;5;241m.\u001b[39mBACKEND_COMPILE_EVENT):\n\u001b[0;32m-> 2718\u001b[0m   xla_executable \u001b[38;5;241m=\u001b[39m \u001b[43mcompiler\u001b[49m\u001b[38;5;241;43m.\u001b[39;49m\u001b[43mcompile_or_get_cached\u001b[49m\u001b[43m(\u001b[49m\n\u001b[1;32m   2719\u001b[0m \u001b[43m      \u001b[49m\u001b[43mbackend\u001b[49m\u001b[43m,\u001b[49m\u001b[43m \u001b[49m\u001b[43mcomputation\u001b[49m\u001b[43m,\u001b[49m\u001b[43m \u001b[49m\u001b[43mdev\u001b[49m\u001b[43m,\u001b[49m\u001b[43m \u001b[49m\u001b[43mcompile_options\u001b[49m\u001b[43m,\u001b[49m\u001b[43m \u001b[49m\u001b[43mhost_callbacks\u001b[49m\u001b[43m)\u001b[49m\n\u001b[1;32m   2720\u001b[0m \u001b[38;5;28;01mreturn\u001b[39;00m xla_executable, compile_options\n",
      "File \u001b[0;32m/Library/Frameworks/Python.framework/Versions/3.11/lib/python3.11/site-packages/jax/_src/compiler.py:333\u001b[0m, in \u001b[0;36mcompile_or_get_cached\u001b[0;34m(backend, computation, devices, compile_options, host_callbacks)\u001b[0m\n\u001b[1;32m    323\u001b[0m   \u001b[38;5;28;01mreturn\u001b[39;00m _compile_and_write_autotune_config(\n\u001b[1;32m    324\u001b[0m       backend,\n\u001b[1;32m    325\u001b[0m       computation,\n\u001b[0;32m   (...)\u001b[0m\n\u001b[1;32m    330\u001b[0m       cache_key,\n\u001b[1;32m    331\u001b[0m   )\n\u001b[1;32m    332\u001b[0m \u001b[38;5;28;01melse\u001b[39;00m:\n\u001b[0;32m--> 333\u001b[0m   \u001b[38;5;28;01mreturn\u001b[39;00m \u001b[43m_compile_and_write_cache\u001b[49m\u001b[43m(\u001b[49m\n\u001b[1;32m    334\u001b[0m \u001b[43m      \u001b[49m\u001b[43mbackend\u001b[49m\u001b[43m,\u001b[49m\n\u001b[1;32m    335\u001b[0m \u001b[43m      \u001b[49m\u001b[43mcomputation\u001b[49m\u001b[43m,\u001b[49m\n\u001b[1;32m    336\u001b[0m \u001b[43m      \u001b[49m\u001b[43mcompile_options\u001b[49m\u001b[43m,\u001b[49m\n\u001b[1;32m    337\u001b[0m \u001b[43m      \u001b[49m\u001b[43mhost_callbacks\u001b[49m\u001b[43m,\u001b[49m\n\u001b[1;32m    338\u001b[0m \u001b[43m      \u001b[49m\u001b[43mmodule_name\u001b[49m\u001b[43m,\u001b[49m\n\u001b[1;32m    339\u001b[0m \u001b[43m      \u001b[49m\u001b[43mcache_key\u001b[49m\u001b[43m,\u001b[49m\n\u001b[1;32m    340\u001b[0m \u001b[43m  \u001b[49m\u001b[43m)\u001b[49m\n",
      "File \u001b[0;32m/Library/Frameworks/Python.framework/Versions/3.11/lib/python3.11/site-packages/jax/_src/compiler.py:500\u001b[0m, in \u001b[0;36m_compile_and_write_cache\u001b[0;34m(backend, computation, compile_options, host_callbacks, module_name, cache_key)\u001b[0m\n\u001b[1;32m    491\u001b[0m \u001b[38;5;28;01mdef\u001b[39;00m \u001b[38;5;21m_compile_and_write_cache\u001b[39m(\n\u001b[1;32m    492\u001b[0m     backend: xc\u001b[38;5;241m.\u001b[39mClient,\n\u001b[1;32m    493\u001b[0m     computation: ir\u001b[38;5;241m.\u001b[39mModule,\n\u001b[0;32m   (...)\u001b[0m\n\u001b[1;32m    497\u001b[0m     cache_key: \u001b[38;5;28mstr\u001b[39m,\n\u001b[1;32m    498\u001b[0m ) \u001b[38;5;241m-\u001b[39m\u001b[38;5;241m>\u001b[39m xc\u001b[38;5;241m.\u001b[39mLoadedExecutable:\n\u001b[1;32m    499\u001b[0m   start_time \u001b[38;5;241m=\u001b[39m time\u001b[38;5;241m.\u001b[39mmonotonic()\n\u001b[0;32m--> 500\u001b[0m   executable \u001b[38;5;241m=\u001b[39m \u001b[43mbackend_compile\u001b[49m\u001b[43m(\u001b[49m\n\u001b[1;32m    501\u001b[0m \u001b[43m      \u001b[49m\u001b[43mbackend\u001b[49m\u001b[43m,\u001b[49m\u001b[43m \u001b[49m\u001b[43mcomputation\u001b[49m\u001b[43m,\u001b[49m\u001b[43m \u001b[49m\u001b[43mcompile_options\u001b[49m\u001b[43m,\u001b[49m\u001b[43m \u001b[49m\u001b[43mhost_callbacks\u001b[49m\n\u001b[1;32m    502\u001b[0m \u001b[43m  \u001b[49m\u001b[43m)\u001b[49m\n\u001b[1;32m    503\u001b[0m   compile_time \u001b[38;5;241m=\u001b[39m time\u001b[38;5;241m.\u001b[39mmonotonic() \u001b[38;5;241m-\u001b[39m start_time\n\u001b[1;32m    504\u001b[0m   _cache_write(\n\u001b[1;32m    505\u001b[0m       cache_key, compile_time, module_name, backend, executable, host_callbacks\n\u001b[1;32m    506\u001b[0m   )\n",
      "File \u001b[0;32m/Library/Frameworks/Python.framework/Versions/3.11/lib/python3.11/site-packages/jax/_src/profiler.py:335\u001b[0m, in \u001b[0;36mannotate_function.<locals>.wrapper\u001b[0;34m(*args, **kwargs)\u001b[0m\n\u001b[1;32m    332\u001b[0m \u001b[38;5;129m@wraps\u001b[39m(func)\n\u001b[1;32m    333\u001b[0m \u001b[38;5;28;01mdef\u001b[39;00m \u001b[38;5;21mwrapper\u001b[39m(\u001b[38;5;241m*\u001b[39margs, \u001b[38;5;241m*\u001b[39m\u001b[38;5;241m*\u001b[39mkwargs):\n\u001b[1;32m    334\u001b[0m   \u001b[38;5;28;01mwith\u001b[39;00m TraceAnnotation(name, \u001b[38;5;241m*\u001b[39m\u001b[38;5;241m*\u001b[39mdecorator_kwargs):\n\u001b[0;32m--> 335\u001b[0m     \u001b[38;5;28;01mreturn\u001b[39;00m \u001b[43mfunc\u001b[49m\u001b[43m(\u001b[49m\u001b[38;5;241;43m*\u001b[39;49m\u001b[43margs\u001b[49m\u001b[43m,\u001b[49m\u001b[43m \u001b[49m\u001b[38;5;241;43m*\u001b[39;49m\u001b[38;5;241;43m*\u001b[39;49m\u001b[43mkwargs\u001b[49m\u001b[43m)\u001b[49m\n\u001b[1;32m    336\u001b[0m   \u001b[38;5;28;01mreturn\u001b[39;00m wrapper\n",
      "File \u001b[0;32m/Library/Frameworks/Python.framework/Versions/3.11/lib/python3.11/site-packages/jax/_src/compiler.py:238\u001b[0m, in \u001b[0;36mbackend_compile\u001b[0;34m(backend, module, options, host_callbacks)\u001b[0m\n\u001b[1;32m    233\u001b[0m   \u001b[38;5;28;01mreturn\u001b[39;00m backend\u001b[38;5;241m.\u001b[39mcompile(built_c, compile_options\u001b[38;5;241m=\u001b[39moptions,\n\u001b[1;32m    234\u001b[0m                          host_callbacks\u001b[38;5;241m=\u001b[39mhost_callbacks)\n\u001b[1;32m    235\u001b[0m \u001b[38;5;66;03m# Some backends don't have `host_callbacks` option yet\u001b[39;00m\n\u001b[1;32m    236\u001b[0m \u001b[38;5;66;03m# TODO(sharadmv): remove this fallback when all backends allow `compile`\u001b[39;00m\n\u001b[1;32m    237\u001b[0m \u001b[38;5;66;03m# to take in `host_callbacks`\u001b[39;00m\n\u001b[0;32m--> 238\u001b[0m \u001b[38;5;28;01mreturn\u001b[39;00m \u001b[43mbackend\u001b[49m\u001b[38;5;241;43m.\u001b[39;49m\u001b[43mcompile\u001b[49m\u001b[43m(\u001b[49m\u001b[43mbuilt_c\u001b[49m\u001b[43m,\u001b[49m\u001b[43m \u001b[49m\u001b[43mcompile_options\u001b[49m\u001b[38;5;241;43m=\u001b[39;49m\u001b[43moptions\u001b[49m\u001b[43m)\u001b[49m\n",
      "\u001b[0;31mKeyboardInterrupt\u001b[0m: "
     ]
    }
   ],
   "source": [
    "# Before launching, add the criterions like in 2007 (see l13 above)\n",
    "\n",
    "#full_inference(data=data2, save_as=base_file_save+\"pres2022_covariate\", type_model = \"covariate1\", \n",
    "#               step2_lr=1e-3, step3_Nmax=1000, step3_Nchains=5, step3_parallel = True,\n",
    "#                     step3_type=\"IS\", try_gaussian=False)\n",
    "\n",
    "full_inference(data=data2, save_as=base_file_save+\"pres2022_full\", type_model = \"margleft\", \n",
    "               step2_lr=1e-2, step3_Nmax=1000, step3_Nchains=5, step3_parallel = True,\n",
    "                     step3_type=\"IS\", try_gaussian=False)\n"
   ]
  },
  {
   "cell_type": "code",
   "execution_count": null,
   "metadata": {},
   "outputs": [],
   "source": [
    "\n",
    "list_idf = [75, 92, 93, 94, 77, 78, 91, 95]\n",
    "\n",
    "for item in list_idf:\n",
    "    print(item)\n",
    "    cc_dep = np.arange(rdt1.shape[0])[crit_full & (rdt1[\"code_dept\"] == item)]\n",
    "    full_inference(data=apply_sel(data, cc_dep), study_name=\"pres2024_dep\"+str(item), scale_step3=\"medium\")\n"
   ]
  },
  {
   "cell_type": "markdown",
   "metadata": {},
   "source": [
    "### Figure 1"
   ]
  },
  {
   "cell_type": "code",
   "execution_count": null,
   "metadata": {},
   "outputs": [],
   "source": [
    "list_idf = [75, 92, 93, 94, 77, 78, 91, 95]\n",
    "df_list = []\n",
    "\n",
    "for item in list_idf:\n",
    "    with open(\"../data/results/inference_pres2022_dep\"+str(item), \"rb\") as file:\n",
    "        res_dep = pickle.load(file)\n",
    "    rows = [\"Macron (center)\", \"Le Pen (far-right)\", \"Melenchon (far-left)\", \"Other\"]\n",
    "    cols = [\"Macron (center)\", \"Le Pen (far-right)\", \"Other\"]\n",
    "    df = make_posterior_pretty(res_dep[\"step3\"][\"quants\"], rows, cols)\n",
    "\n",
    "    df2 = pd.melt(df.loc[[\"Melenchon (far-left)\"]])\n",
    "    df2[\"start_candidate\"] = np.tile([\"Melenchon (far-left)\",], 9)\n",
    "    df2[\"department\"] = item\n",
    "\n",
    "    df_list.append(df2)\n",
    "\n",
    "res = pd.concat(df_list)\n",
    "\n",
    "res.columns = [\"vote_t2\", \"quantile\", \"value\", \"vote_t1\", \"department\"]\n",
    "res.to_csv(\"../data/for_figures/idf_departments.csv\")"
   ]
  },
  {
   "cell_type": "markdown",
   "metadata": {},
   "source": [
    "### Figure 2"
   ]
  },
  {
   "cell_type": "code",
   "execution_count": 3,
   "metadata": {},
   "outputs": [],
   "source": [
    "with open(\"../data/results/inference_pres2022_covariate\", \"rb\") as file:\n",
    "    res1 = pickle.load(file)\n",
    "\n",
    "with open(\"../data/results/inference_pres2022_full\", \"rb\") as file:\n",
    "    res0 = pickle.load(file)"
   ]
  },
  {
   "cell_type": "code",
   "execution_count": 12,
   "metadata": {},
   "outputs": [
    {
     "data": {
      "text/plain": [
       "Array(62058.402, dtype=float32)"
      ]
     },
     "execution_count": 12,
     "metadata": {},
     "output_type": "execute_result"
    }
   ],
   "source": [
    "w1 = res1[\"step3\"][\"weights\"][0] - res1[\"step3\"][\"weights\"][1] \n",
    "B1 = jnp.log(jnp.exp(w1 - w1.max()).mean()) + w1.max()\n",
    "\n",
    "w0 = res0[\"step3\"][\"weights\"][0] - res0[\"step3\"][\"weights\"][1] \n",
    "B0 = jnp.log(jnp.exp(w0 - w0.max()).mean()) + w0.max()\n",
    "\n",
    "(B1-B0)/jnp.log(10)"
   ]
  },
  {
   "cell_type": "code",
   "execution_count": null,
   "metadata": {},
   "outputs": [],
   "source": [
    "quants = jnp.quantile(res1[\"step3\"][\"posterior\"], q=jnp.array([.05, 0.5, 0.95]), axis=0).T\n",
    "quants = quants[jnp.array([4,5,12,13]),]\n",
    "df = pd.DataFrame(quants, columns=[0.05, 0.5, 0.95])\n",
    "#df[\"Option\"] = [\"Le Pen (far-right)\", \"Abstention / other\", \"Le Pen (far-right)\", \"Abstention / other\"]\n",
    "#df[\"Coefficient\"] = [\"Intercept\", \"Intercept\", \"Density\", \"Density\"]\n",
    "#df.to_csv(\"../data/for_figures/density.csv\")\n",
    "\n",
    "df = pd.DataFrame(np.concatenate([quants[:2], quants[2:]], axis=1), columns=[\"i.05\",\"i.5\", \"i.95\",\"s.05\",\"s.5\", \"s.95\"])\n",
    "df[\"Option\"] = [\"Le Pen (far right)\", \"Abstention / other\"]\n",
    "df.to_csv(\"../data/for_figures/density.csv\")"
   ]
  },
  {
   "cell_type": "code",
   "execution_count": null,
   "metadata": {},
   "outputs": [],
   "source": [
    "nspace = 100\n",
    "space = jnp.linspace(-2,2,nspace)\n",
    "\n",
    "pred1 = (res1[\"step3\"][\"posterior\"][:,4].reshape(-1,1) + res1[\"step3\"][\"posterior\"][:,12].reshape(-1,1) @ space.reshape(1, -1)) # Melenchon Le Pen\n",
    "pred2 = (res1[\"step3\"][\"posterior\"][:,5].reshape(-1,1) + res1[\"step3\"][\"posterior\"][:,13].reshape(-1,1) @ space.reshape(1, -1)) # Melenchon Abstention\n",
    "ww = jnp.ones(pred1.shape[0])/pred1.shape[0] # Set true weight here\n",
    "\n",
    "res = jnp.concat([pred1[:,:,None], pred2[:,:,None]], axis=2)\n",
    "res2 = (softmax2(res.reshape((-1,2))).reshape((-1,nspace,3)))\n",
    "\n",
    "res3 = jax.vmap(weighted_quantile, (1, None, None))(res2.reshape(-1,nspace*3), jnp.array([.05,.5,.95]), ww)\n",
    "res4 = res3.reshape((nspace,3,3))\n",
    "\n",
    "res5 = pd.DataFrame(res3, columns=[\".05\",\".5\",\".95\"])\n",
    "res5[\"grille\"] = jnp.exp(np.repeat(space,3)*dens_std+dens_mean)\n",
    "res5[\"candidate\"] = np.tile([\"Macron (center)\", \"Le Pen (far-right)\", \"Other\"], reps=nspace)\n",
    "res5.to_csv(\"../data/for_figures/density.csv\")\n"
   ]
  },
  {
   "cell_type": "code",
   "execution_count": null,
   "metadata": {},
   "outputs": [
    {
     "data": {
      "text/plain": [
       "(3000, 100, 3)"
      ]
     },
     "execution_count": 263,
     "metadata": {},
     "output_type": "execute_result"
    }
   ],
   "source": [
    "res2.shape"
   ]
  },
  {
   "cell_type": "markdown",
   "metadata": {},
   "source": [
    "### Figure for presentation"
   ]
  }
 ],
 "metadata": {
  "kernelspec": {
   "display_name": "Python 3",
   "language": "python",
   "name": "python3"
  },
  "language_info": {
   "codemirror_mode": {
    "name": "ipython",
    "version": 3
   },
   "file_extension": ".py",
   "mimetype": "text/x-python",
   "name": "python",
   "nbconvert_exporter": "python",
   "pygments_lexer": "ipython3",
   "version": "3.11.9"
  }
 },
 "nbformat": 4,
 "nbformat_minor": 2
}
